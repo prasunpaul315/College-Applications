{
 "cells": [
  {
   "cell_type": "markdown",
   "id": "15f744c7",
   "metadata": {},
   "source": [
    "# 1. Dataset Description"
   ]
  },
  {
   "cell_type": "markdown",
   "id": "97a12766",
   "metadata": {},
   "source": [
    "This dataset documents the test scores, school rankings, and application strengths of a series of college applicants, and correlates each with the probability that application is accepted to the school of their choice. Each of these features is provided as a continuous, qualitative numerical value, which means that we have the ability to process this data to review applications and learn what makes an application strong or not.\n",
    "\n",
    "Every application in the dataset contains the following features:\n",
    "\n",
    "• Graduate Record Examinations (‘GRE Score‘): A score (out of 340) on the GREs.\n",
    "\n",
    "• Test of English as a Foreign Language (‘TOEFL Score‘): A score (out of 120) on the TOEFL.\n",
    "\n",
    "• University Rating (‘University Rating‘): A rank from 1 to 5 (with 5 being the best) of the university this entry describes application to.\n",
    "\n",
    "• Statement of Purpose (‘SOP‘): A rank from 1 to 5 (in increments of 0.5) of the Statement of Purpose provided as part of the application.\n",
    "\n",
    "• Letter of Recommendation (‘LOR‘): A rank from 1 to 5 (in increments of 0.5) of the Letter of Recommendation provided as part of the application.\n",
    "\n",
    "• Undergraduate GPA (‘CGPA‘): Undergraduate college GPA, scaled here to be between 0 and 10, with 10 being the highest.\n",
    "\n",
    "• Research Experience (‘Research‘): A boolean ‘0‘ or ‘1‘ value indicating whether the applicant has research experience.\n",
    "\n",
    "• Chance of Admission (‘Chance of Admit‘): The chance (as a decimal probability between 0 and 1) that the application described in the previous data points will be accepted by the target university."
   ]
  },
  {
   "cell_type": "markdown",
   "id": "5cfbee22",
   "metadata": {},
   "source": [
    "# 2. Data Loading / Preprocessing"
   ]
  },
  {
   "cell_type": "markdown",
   "id": "8206f6b5",
   "metadata": {},
   "source": [
    "## 2.1 Loading"
   ]
  },
  {
   "cell_type": "code",
   "execution_count": 1,
   "id": "a05895e0",
   "metadata": {},
   "outputs": [],
   "source": [
    "# importing pandas\n",
    "import pandas as pd"
   ]
  },
  {
   "cell_type": "code",
   "execution_count": 2,
   "id": "09113efb",
   "metadata": {},
   "outputs": [
    {
     "data": {
      "text/html": [
       "<div>\n",
       "<style scoped>\n",
       "    .dataframe tbody tr th:only-of-type {\n",
       "        vertical-align: middle;\n",
       "    }\n",
       "\n",
       "    .dataframe tbody tr th {\n",
       "        vertical-align: top;\n",
       "    }\n",
       "\n",
       "    .dataframe thead th {\n",
       "        text-align: right;\n",
       "    }\n",
       "</style>\n",
       "<table border=\"1\" class=\"dataframe\">\n",
       "  <thead>\n",
       "    <tr style=\"text-align: right;\">\n",
       "      <th></th>\n",
       "      <th>Serial No.</th>\n",
       "      <th>GRE Score</th>\n",
       "      <th>TOEFL Score</th>\n",
       "      <th>University Rating</th>\n",
       "      <th>SOP</th>\n",
       "      <th>LOR</th>\n",
       "      <th>CGPA</th>\n",
       "      <th>Research</th>\n",
       "      <th>Chance of Admit</th>\n",
       "    </tr>\n",
       "  </thead>\n",
       "  <tbody>\n",
       "    <tr>\n",
       "      <th>0</th>\n",
       "      <td>1</td>\n",
       "      <td>337</td>\n",
       "      <td>118</td>\n",
       "      <td>4</td>\n",
       "      <td>4.5</td>\n",
       "      <td>4.5</td>\n",
       "      <td>9.65</td>\n",
       "      <td>1</td>\n",
       "      <td>0.92</td>\n",
       "    </tr>\n",
       "    <tr>\n",
       "      <th>1</th>\n",
       "      <td>2</td>\n",
       "      <td>324</td>\n",
       "      <td>107</td>\n",
       "      <td>4</td>\n",
       "      <td>4.0</td>\n",
       "      <td>4.5</td>\n",
       "      <td>8.87</td>\n",
       "      <td>1</td>\n",
       "      <td>0.76</td>\n",
       "    </tr>\n",
       "    <tr>\n",
       "      <th>2</th>\n",
       "      <td>3</td>\n",
       "      <td>316</td>\n",
       "      <td>104</td>\n",
       "      <td>3</td>\n",
       "      <td>3.0</td>\n",
       "      <td>3.5</td>\n",
       "      <td>8.00</td>\n",
       "      <td>1</td>\n",
       "      <td>0.72</td>\n",
       "    </tr>\n",
       "    <tr>\n",
       "      <th>3</th>\n",
       "      <td>4</td>\n",
       "      <td>322</td>\n",
       "      <td>110</td>\n",
       "      <td>3</td>\n",
       "      <td>3.5</td>\n",
       "      <td>2.5</td>\n",
       "      <td>8.67</td>\n",
       "      <td>1</td>\n",
       "      <td>0.80</td>\n",
       "    </tr>\n",
       "    <tr>\n",
       "      <th>4</th>\n",
       "      <td>5</td>\n",
       "      <td>314</td>\n",
       "      <td>103</td>\n",
       "      <td>2</td>\n",
       "      <td>2.0</td>\n",
       "      <td>3.0</td>\n",
       "      <td>8.21</td>\n",
       "      <td>0</td>\n",
       "      <td>0.65</td>\n",
       "    </tr>\n",
       "  </tbody>\n",
       "</table>\n",
       "</div>"
      ],
      "text/plain": [
       "   Serial No.  GRE Score  TOEFL Score  University Rating  SOP  LOR   CGPA  \\\n",
       "0           1        337          118                  4  4.5   4.5  9.65   \n",
       "1           2        324          107                  4  4.0   4.5  8.87   \n",
       "2           3        316          104                  3  3.0   3.5  8.00   \n",
       "3           4        322          110                  3  3.5   2.5  8.67   \n",
       "4           5        314          103                  2  2.0   3.0  8.21   \n",
       "\n",
       "   Research  Chance of Admit   \n",
       "0         1              0.92  \n",
       "1         1              0.76  \n",
       "2         1              0.72  \n",
       "3         1              0.80  \n",
       "4         0              0.65  "
      ]
     },
     "execution_count": 2,
     "metadata": {},
     "output_type": "execute_result"
    }
   ],
   "source": [
    "# store the dataframe on df\n",
    "df = pd.read_csv(\"data.csv\")\n",
    "df.head()"
   ]
  },
  {
   "cell_type": "code",
   "execution_count": 3,
   "id": "aa83cf79",
   "metadata": {},
   "outputs": [
    {
     "data": {
      "text/plain": [
       "(400, 9)"
      ]
     },
     "execution_count": 3,
     "metadata": {},
     "output_type": "execute_result"
    }
   ],
   "source": [
    "# checking shape of entire dataframe\n",
    "df.shape"
   ]
  },
  {
   "cell_type": "code",
   "execution_count": 4,
   "id": "aa8bc805",
   "metadata": {},
   "outputs": [
    {
     "data": {
      "text/plain": [
       "Serial No.           0\n",
       "GRE Score            0\n",
       "TOEFL Score          0\n",
       "University Rating    0\n",
       "SOP                  0\n",
       "LOR                  0\n",
       "CGPA                 0\n",
       "Research             0\n",
       "Chance of Admit      0\n",
       "dtype: int64"
      ]
     },
     "execution_count": 4,
     "metadata": {},
     "output_type": "execute_result"
    }
   ],
   "source": [
    "# checking is there any missing value exists or not\n",
    "df.isnull().sum()"
   ]
  },
  {
   "cell_type": "code",
   "execution_count": 5,
   "id": "02a81096",
   "metadata": {},
   "outputs": [
    {
     "data": {
      "text/plain": [
       "Serial No.             int64\n",
       "GRE Score              int64\n",
       "TOEFL Score            int64\n",
       "University Rating      int64\n",
       "SOP                  float64\n",
       "LOR                  float64\n",
       "CGPA                 float64\n",
       "Research               int64\n",
       "Chance of Admit      float64\n",
       "dtype: object"
      ]
     },
     "execution_count": 5,
     "metadata": {},
     "output_type": "execute_result"
    }
   ],
   "source": [
    "# checking datatypes for each attributes\n",
    "df.dtypes"
   ]
  },
  {
   "cell_type": "markdown",
   "id": "3be1985d",
   "metadata": {},
   "source": [
    "> No missing value exists in given dataset"
   ]
  },
  {
   "cell_type": "markdown",
   "id": "5868db96",
   "metadata": {},
   "source": [
    "## 2.2 Data Visualization"
   ]
  },
  {
   "cell_type": "code",
   "execution_count": 6,
   "id": "4b1c4778",
   "metadata": {},
   "outputs": [],
   "source": [
    "# importing necessary libraries\n",
    "import seaborn as sns\n",
    "import numpy as np"
   ]
  },
  {
   "cell_type": "code",
   "execution_count": 7,
   "id": "2ad1e080",
   "metadata": {},
   "outputs": [
    {
     "data": {
      "text/plain": [
       "Index(['Serial No.', 'GRE Score', 'TOEFL Score', 'University Rating', 'SOP',\n",
       "       'LOR ', 'CGPA', 'Research', 'Chance of Admit '],\n",
       "      dtype='object')"
      ]
     },
     "execution_count": 7,
     "metadata": {},
     "output_type": "execute_result"
    }
   ],
   "source": [
    "# show column names in dataframe\n",
    "df.columns"
   ]
  },
  {
   "cell_type": "code",
   "execution_count": 8,
   "id": "af222ff9",
   "metadata": {},
   "outputs": [],
   "source": [
    "# make column name as meaningful manner\n",
    "\n",
    "df.rename(columns={'LOR ': 'LOR', 'Chance of Admit ': 'Chance of Admit'}, inplace=True)"
   ]
  },
  {
   "cell_type": "code",
   "execution_count": 9,
   "id": "81057b49",
   "metadata": {},
   "outputs": [
    {
     "data": {
      "text/plain": [
       "Index(['Serial No.', 'GRE Score', 'TOEFL Score', 'University Rating', 'SOP',\n",
       "       'LOR', 'CGPA', 'Research', 'Chance of Admit'],\n",
       "      dtype='object')"
      ]
     },
     "execution_count": 9,
     "metadata": {},
     "output_type": "execute_result"
    }
   ],
   "source": [
    "# updated column names\n",
    "df.columns"
   ]
  },
  {
   "cell_type": "code",
   "execution_count": 10,
   "id": "f7f65564",
   "metadata": {},
   "outputs": [
    {
     "data": {
      "text/plain": [
       "Index(['GRE Score', 'TOEFL Score', 'University Rating', 'SOP', 'LOR', 'CGPA',\n",
       "       'Research'],\n",
       "      dtype='object')"
      ]
     },
     "execution_count": 10,
     "metadata": {},
     "output_type": "execute_result"
    }
   ],
   "source": [
    "# droping Serial No. and Chance of Admit\n",
    "df_new = df.drop(['Serial No.', 'Chance of Admit'], axis=1).copy()\n",
    "df_new.columns"
   ]
  },
  {
   "cell_type": "code",
   "execution_count": 11,
   "id": "e444ccd5",
   "metadata": {},
   "outputs": [
    {
     "data": {
      "image/png": "[encoded data removed]",
      "text/plain": [
       "<Figure size 1080x1080 with 12 Axes>"
      ]
     },
     "metadata": {
      "needs_background": "light"
     },
     "output_type": "display_data"
    }
   ],
   "source": [
    "import matplotlib.pyplot as plt\n",
    "features = ['GRE Score', 'TOEFL Score', 'University Rating', 'SOP', 'LOR', 'CGPA', 'Research']\n",
    "\n",
    "# making boxplot \n",
    "df_new[features].plot(kind='box',  figsize=(15, 15), subplots=True, layout=(3, 4))\n",
    "plt.show()"
   ]
  },
  {
   "cell_type": "markdown",
   "id": "05d647ca",
   "metadata": {},
   "source": [
    "> The above boxplot does not specifying detail information regarding each features."
   ]
  },
  {
   "cell_type": "code",
   "execution_count": 12,
   "id": "ebc2b371",
   "metadata": {},
   "outputs": [
    {
     "data": {
      "image/png": "[encoded data removed]",
      "text/plain": [
       "<Figure size 432x288 with 1 Axes>"
      ]
     },
     "metadata": {
      "needs_background": "light"
     },
     "output_type": "display_data"
    }
   ],
   "source": [
    "# Univariate analysis: Chance of Admit\n",
    "\n",
    "sns.histplot(df['Chance of Admit'],kde=True)\n",
    "plt.show()"
   ]
  },
  {
   "cell_type": "markdown",
   "id": "2eba79e8",
   "metadata": {},
   "source": [
    "> As we can see from above hsitogram there are majority of data points having Chance of Admit is greater than 0.7"
   ]
  },
  {
   "cell_type": "code",
   "execution_count": 13,
   "id": "665ed841",
   "metadata": {},
   "outputs": [
    {
     "data": {
      "image/png": "[encoded data removed]",
      "text/plain": [
       "<Figure size 432x288 with 1 Axes>"
      ]
     },
     "metadata": {
      "needs_background": "light"
     },
     "output_type": "display_data"
    }
   ],
   "source": [
    "# Need for Cumulative Distribution Function (CDF)\n",
    "#Plot CDF of Chance of Admit\n",
    "\n",
    "counts, bin_edges = np.histogram(df['Chance of Admit'], bins=10, \n",
    "                                 density = True)\n",
    "pdf = counts/(sum(counts))\n",
    "#print(pdf)\n",
    "#print(bin_edges)\n",
    "cdf = np.cumsum(pdf)\n",
    "plt.plot(bin_edges[1:],pdf)\n",
    "plt.plot(bin_edges[1:], cdf)\n",
    "plt.grid()\n",
    "plt.show()"
   ]
  },
  {
   "cell_type": "markdown",
   "id": "cfe0422e",
   "metadata": {},
   "source": [
    "> Here,\\\n",
    "> around 88% data points having Chance of Admit < 0.9 \\\n",
    "> around 65% data points having Chance of Admit < 0.8 \\\n",
    "> around 40% data points having Chance of Admit < 0.7 \\\n",
    "> around 20% data points having Chance of Admit < 0.6"
   ]
  },
  {
   "cell_type": "code",
   "execution_count": 14,
   "id": "0bb330ee",
   "metadata": {},
   "outputs": [
    {
     "data": {
      "image/png": "[encoded data removed]",
      "text/plain": [
       "<Figure size 432x288 with 1 Axes>"
      ]
     },
     "metadata": {
      "needs_background": "light"
     },
     "output_type": "display_data"
    },
    {
     "name": "stdout",
     "output_type": "stream",
     "text": [
      "0 percentile value is 290\n",
      "10 percentile value is 300\n",
      "20 percentile value is 306\n",
      "30 percentile value is 311\n",
      "40 percentile value is 314\n",
      "50 percentile value is 317\n",
      "60 percentile value is 321\n",
      "70 percentile value is 324\n",
      "80 percentile value is 327\n",
      "90 percentile value is 332\n",
      "100 percentile value is  340\n"
     ]
    },
    {
     "data": {
      "image/png": "[encoded data removed]",
      "text/plain": [
       "<Figure size 432x288 with 2 Axes>"
      ]
     },
     "metadata": {
      "needs_background": "light"
     },
     "output_type": "display_data"
    },
    {
     "data": {
      "image/png": "[encoded data removed]",
      "text/plain": [
       "<Figure size 432x288 with 1 Axes>"
      ]
     },
     "metadata": {
      "needs_background": "light"
     },
     "output_type": "display_data"
    }
   ],
   "source": [
    "#Univariate analysis: GRE Score\n",
    "\n",
    "sns.boxplot(y=\"GRE Score\", data =df_new)\n",
    "plt.show()\n",
    "\n",
    "#calculating GRE Score values at each percntile 0,10,20,30,40,50,60,70,80,90,100 \n",
    "for i in range(0,100,10):\n",
    "    var =df_new[\"GRE Score\"].values\n",
    "    var = np.sort(var,axis = None)\n",
    "    print(\"{} percentile value is {}\".format(i,var[int(len(var)*(float(i)/100))]))\n",
    "print(\"100 percentile value is \",var[-1])\n",
    "\n",
    "\n",
    "# Bivariate analysis: GRE Score with Chance of Admit\n",
    "plt.scatter(df_new['GRE Score'], df['Chance of Admit'], c=df['Chance of Admit'], cmap='Spectral')\n",
    "plt.colorbar()\n",
    "plt.title('Bivariate analysis: GRE Score with Chance of Admit')\n",
    "plt.xlabel('GRE Score')\n",
    "plt.ylabel('Chance of Admit')\n",
    "plt.show()\n",
    "\n",
    "\n",
    "sns.histplot(df_new['GRE Score'],kde=True)\n",
    "plt.show()"
   ]
  },
  {
   "cell_type": "markdown",
   "id": "e3b40006",
   "metadata": {},
   "source": [
    "> As GRE Score increases the Chance of Admit becomes high \\\n",
    "> The distribution of GRE Score is almost normal distribution"
   ]
  },
  {
   "cell_type": "code",
   "execution_count": 15,
   "id": "45b20f17",
   "metadata": {},
   "outputs": [
    {
     "data": {
      "image/png": "[encoded data removed]",
      "text/plain": [
       "<Figure size 432x288 with 1 Axes>"
      ]
     },
     "metadata": {
      "needs_background": "light"
     },
     "output_type": "display_data"
    },
    {
     "name": "stdout",
     "output_type": "stream",
     "text": [
      "0 percentile value is 92\n",
      "10 percentile value is 99\n",
      "20 percentile value is 102\n",
      "30 percentile value is 104\n",
      "40 percentile value is 106\n",
      "50 percentile value is 107\n",
      "60 percentile value is 109\n",
      "70 percentile value is 111\n",
      "80 percentile value is 113\n",
      "90 percentile value is 116\n",
      "100 percentile value is  120\n"
     ]
    },
    {
     "data": {
      "image/png": "[encoded data removed]",
      "text/plain": [
       "<Figure size 432x288 with 2 Axes>"
      ]
     },
     "metadata": {
      "needs_background": "light"
     },
     "output_type": "display_data"
    },
    {
     "data": {
      "image/png": "[encoded data removed]",
      "text/plain": [
       "<Figure size 432x288 with 1 Axes>"
      ]
     },
     "metadata": {
      "needs_background": "light"
     },
     "output_type": "display_data"
    }
   ],
   "source": [
    "#Univariate analysis: TOEFL Score\n",
    "\n",
    "sns.boxplot(y=\"TOEFL Score\", data =df_new)\n",
    "plt.show()\n",
    "\n",
    "#calculating TOEFL Score values at each percntile 0,10,20,30,40,50,60,70,80,90,100 \n",
    "for i in range(0,100,10):\n",
    "    var =df_new[\"TOEFL Score\"].values\n",
    "    var = np.sort(var,axis = None)\n",
    "    print(\"{} percentile value is {}\".format(i,var[int(len(var)*(float(i)/100))]))\n",
    "print(\"100 percentile value is \",var[-1])\n",
    "\n",
    "\n",
    "# Bivariate analysis: TOEFL with Chance of Admit\n",
    "plt.scatter(df_new['TOEFL Score'], df['Chance of Admit'], c=df['Chance of Admit'], cmap='Spectral')\n",
    "plt.colorbar()\n",
    "plt.title('Bivariate analysis: TOEFL Score with Chance of Admit')\n",
    "plt.xlabel('TOEFL Score')\n",
    "plt.ylabel('Chance of Admit')\n",
    "plt.show()\n",
    "\n",
    "sns.histplot(df_new['TOEFL Score'],kde=True)\n",
    "plt.show()"
   ]
  },
  {
   "cell_type": "markdown",
   "id": "80cc8b04",
   "metadata": {},
   "source": [
    "> As TOEFL Score increases the Chance of Admit becomes high \\\n",
    "> The distribution of TOEFL Score is almost normal distribution"
   ]
  },
  {
   "cell_type": "code",
   "execution_count": 16,
   "id": "adee0abb",
   "metadata": {},
   "outputs": [
    {
     "data": {
      "image/png": "[encoded data removed]",
      "text/plain": [
       "<Figure size 432x288 with 1 Axes>"
      ]
     },
     "metadata": {
      "needs_background": "light"
     },
     "output_type": "display_data"
    },
    {
     "name": "stdout",
     "output_type": "stream",
     "text": [
      "0 percentile value is 1\n",
      "10 percentile value is 2\n",
      "20 percentile value is 2\n",
      "30 percentile value is 2\n",
      "40 percentile value is 3\n",
      "50 percentile value is 3\n",
      "60 percentile value is 3\n",
      "70 percentile value is 4\n",
      "80 percentile value is 4\n",
      "90 percentile value is 5\n",
      "100 percentile value is  5\n"
     ]
    },
    {
     "data": {
      "image/png": "[encoded data removed]",
      "text/plain": [
       "<Figure size 432x288 with 2 Axes>"
      ]
     },
     "metadata": {
      "needs_background": "light"
     },
     "output_type": "display_data"
    },
    {
     "data": {
      "image/png": "[encoded data removed]",
      "text/plain": [
       "<Figure size 432x288 with 1 Axes>"
      ]
     },
     "metadata": {
      "needs_background": "light"
     },
     "output_type": "display_data"
    }
   ],
   "source": [
    "#Univariate analysis: University Rating\n",
    "\n",
    "sns.boxplot(y=\"University Rating\", data =df_new)\n",
    "plt.show()\n",
    "\n",
    "#calculating University Rating values at each percntile 0,10,20,30,40,50,60,70,80,90,100 \n",
    "for i in range(0,100,10):\n",
    "    var =df_new[\"University Rating\"].values\n",
    "    var = np.sort(var,axis = None)\n",
    "    print(\"{} percentile value is {}\".format(i,var[int(len(var)*(float(i)/100))]))\n",
    "print(\"100 percentile value is \",var[-1])\n",
    "\n",
    "\n",
    "\n",
    "# Bivariate analysis: University Rating with Chance of Admit\n",
    "plt.scatter(df_new['University Rating'], df['Chance of Admit'], c=df['Chance of Admit'], cmap='Spectral')\n",
    "plt.colorbar()\n",
    "plt.title('Bivariate analysis: University Rating with Chance of Admit')\n",
    "plt.xlabel('University Rating')\n",
    "plt.ylabel('Chance of Admit')\n",
    "plt.show()\n",
    "\n",
    "\n",
    "\n",
    "sns.histplot(df_new['University Rating'],kde=True)\n",
    "plt.show()"
   ]
  },
  {
   "cell_type": "markdown",
   "id": "6605c021",
   "metadata": {},
   "source": [
    "> As University Rating increases the Chance of Admit becomes high \\\n",
    "> Given dataset has majority University Rating is 3.0"
   ]
  },
  {
   "cell_type": "code",
   "execution_count": 17,
   "id": "3eeaf2a5",
   "metadata": {},
   "outputs": [
    {
     "data": {
      "image/png": "[encoded data removed]",
      "text/plain": [
       "<Figure size 432x288 with 1 Axes>"
      ]
     },
     "metadata": {
      "needs_background": "light"
     },
     "output_type": "display_data"
    },
    {
     "name": "stdout",
     "output_type": "stream",
     "text": [
      "0 percentile value is 1.0\n",
      "10 percentile value is 2.0\n",
      "20 percentile value is 2.5\n",
      "30 percentile value is 3.0\n",
      "40 percentile value is 3.0\n",
      "50 percentile value is 3.5\n",
      "60 percentile value is 4.0\n",
      "70 percentile value is 4.0\n",
      "80 percentile value is 4.5\n",
      "90 percentile value is 4.5\n",
      "100 percentile value is  5.0\n"
     ]
    },
    {
     "data": {
      "image/png": "[encoded data removed]",
      "text/plain": [
       "<Figure size 432x288 with 2 Axes>"
      ]
     },
     "metadata": {
      "needs_background": "light"
     },
     "output_type": "display_data"
    },
    {
     "data": {
      "image/png": "[encoded data removed]",
      "text/plain": [
       "<Figure size 432x288 with 1 Axes>"
      ]
     },
     "metadata": {
      "needs_background": "light"
     },
     "output_type": "display_data"
    }
   ],
   "source": [
    "#Univariate analysis: SOP\n",
    "\n",
    "sns.boxplot(y=\"SOP\", data =df_new)\n",
    "plt.show()\n",
    "\n",
    "#calculating SOP values at each percntile 0,10,20,30,40,50,60,70,80,90,100 \n",
    "for i in range(0,100,10):\n",
    "    var =df_new[\"SOP\"].values\n",
    "    var = np.sort(var,axis = None)\n",
    "    print(\"{} percentile value is {}\".format(i,var[int(len(var)*(float(i)/100))]))\n",
    "print(\"100 percentile value is \",var[-1])\n",
    "\n",
    "\n",
    "\n",
    "# Bivariate analysis: SOP with Chance of Admit\n",
    "plt.scatter(df_new['SOP'], df['Chance of Admit'], c=df['Chance of Admit'], cmap='Spectral')\n",
    "plt.colorbar()\n",
    "plt.title('Bivariate analysis: SOP with Chance of Admit')\n",
    "plt.xlabel('SOP')\n",
    "plt.ylabel('Chance of Admit')\n",
    "plt.show()\n",
    "\n",
    "\n",
    "\n",
    "sns.histplot(df_new['SOP'],kde=True)\n",
    "plt.show()"
   ]
  },
  {
   "cell_type": "markdown",
   "id": "6ff1e696",
   "metadata": {},
   "source": [
    "> As SOP increases the Chance of Admit becomes high \\\n",
    "> The distribution of SOP is slightly left skewed"
   ]
  },
  {
   "cell_type": "code",
   "execution_count": 18,
   "id": "3aa34f6e",
   "metadata": {},
   "outputs": [
    {
     "data": {
      "image/png": "[encoded data removed]",
      "text/plain": [
       "<Figure size 432x288 with 1 Axes>"
      ]
     },
     "metadata": {
      "needs_background": "light"
     },
     "output_type": "display_data"
    },
    {
     "name": "stdout",
     "output_type": "stream",
     "text": [
      "0 percentile value is 1.0\n",
      "10 percentile value is 2.0\n",
      "20 percentile value is 2.5\n",
      "30 percentile value is 3.0\n",
      "40 percentile value is 3.0\n",
      "50 percentile value is 3.5\n",
      "60 percentile value is 3.5\n",
      "70 percentile value is 4.0\n",
      "80 percentile value is 4.5\n",
      "90 percentile value is 4.5\n",
      "100 percentile value is  5.0\n"
     ]
    },
    {
     "data": {
      "image/png": "[encoded data removed]",
      "text/plain": [
       "<Figure size 432x288 with 2 Axes>"
      ]
     },
     "metadata": {
      "needs_background": "light"
     },
     "output_type": "display_data"
    },
    {
     "data": {
      "image/png": "[encoded data removed]",
      "text/plain": [
       "<Figure size 432x288 with 1 Axes>"
      ]
     },
     "metadata": {
      "needs_background": "light"
     },
     "output_type": "display_data"
    }
   ],
   "source": [
    "#Univariate analysis: LOR\n",
    "\n",
    "sns.boxplot(y=\"LOR\", data =df_new)\n",
    "plt.show()\n",
    "\n",
    "#calculating LOR values at each percntile 0,10,20,30,40,50,60,70,80,90,100 \n",
    "for i in range(0,100,10):\n",
    "    var =df_new[\"LOR\"].values\n",
    "    var = np.sort(var,axis = None)\n",
    "    print(\"{} percentile value is {}\".format(i,var[int(len(var)*(float(i)/100))]))\n",
    "print(\"100 percentile value is \",var[-1])\n",
    "\n",
    "\n",
    "\n",
    "# Bivariate analysis: LOR with Chance of Admit\n",
    "plt.scatter(df_new['LOR'], df['Chance of Admit'], c=df['Chance of Admit'], cmap='Spectral')\n",
    "plt.colorbar()\n",
    "plt.title('Bivariate analysis: LOR with Chance of Admit')\n",
    "plt.xlabel('LOR')\n",
    "plt.ylabel('Chance of Admit')\n",
    "plt.show()\n",
    "\n",
    "\n",
    "\n",
    "sns.histplot(df_new['LOR'],kde=True)\n",
    "plt.show()"
   ]
  },
  {
   "cell_type": "markdown",
   "id": "ad1acf2c",
   "metadata": {},
   "source": [
    "> As LOR increases the Chance of Admit becomes high \\\n",
    "> Given dataset has majority LOR is 3.0"
   ]
  },
  {
   "cell_type": "code",
   "execution_count": 19,
   "id": "39e3aae4",
   "metadata": {},
   "outputs": [
    {
     "data": {
      "image/png": "[encoded data removed]",
      "text/plain": [
       "<Figure size 432x288 with 1 Axes>"
      ]
     },
     "metadata": {
      "needs_background": "light"
     },
     "output_type": "display_data"
    },
    {
     "name": "stdout",
     "output_type": "stream",
     "text": [
      "0 percentile value is 6.8\n",
      "10 percentile value is 7.86\n",
      "20 percentile value is 8.07\n",
      "30 percentile value is 8.26\n",
      "40 percentile value is 8.45\n",
      "50 percentile value is 8.62\n",
      "60 percentile value is 8.76\n",
      "70 percentile value is 8.97\n",
      "80 percentile value is 9.13\n",
      "90 percentile value is 9.4\n",
      "100 percentile value is  9.92\n"
     ]
    },
    {
     "data": {
      "image/png": "[encoded data removed]",
      "text/plain": [
       "<Figure size 432x288 with 2 Axes>"
      ]
     },
     "metadata": {
      "needs_background": "light"
     },
     "output_type": "display_data"
    },
    {
     "data": {
      "image/png": "[encoded data removed]",
      "text/plain": [
       "<Figure size 432x288 with 1 Axes>"
      ]
     },
     "metadata": {
      "needs_background": "light"
     },
     "output_type": "display_data"
    }
   ],
   "source": [
    "#Univariate analysis: CGPA\n",
    "\n",
    "sns.boxplot(y=\"CGPA\", data =df_new)\n",
    "plt.show()\n",
    "\n",
    "#calculating CGPA values at each percntile 0,10,20,30,40,50,60,70,80,90,100 \n",
    "for i in range(0,100,10):\n",
    "    var =df_new[\"CGPA\"].values\n",
    "    var = np.sort(var,axis = None)\n",
    "    print(\"{} percentile value is {}\".format(i,var[int(len(var)*(float(i)/100))]))\n",
    "print(\"100 percentile value is \",var[-1])\n",
    "\n",
    "\n",
    "# Bivariate analysis: CGPA with Chance of Admit\n",
    "plt.scatter(df_new['CGPA'], df['Chance of Admit'], c=df['Chance of Admit'], cmap='Spectral')\n",
    "plt.colorbar()\n",
    "plt.title('Bivariate analysis: CGPA with Chance of Admit')\n",
    "plt.xlabel('CGPA')\n",
    "plt.ylabel('Chance of Admit')\n",
    "plt.show()\n",
    "\n",
    "\n",
    "\n",
    "sns.histplot(df_new['CGPA'],kde=True)\n",
    "plt.show()"
   ]
  },
  {
   "cell_type": "markdown",
   "id": "e68cbf83",
   "metadata": {},
   "source": [
    "> As CGPA increases the Chance of Admit becomes high \\\n",
    "> The distribution of CGPA Score is almost normal distribution"
   ]
  },
  {
   "cell_type": "code",
   "execution_count": 20,
   "id": "9f23ab58",
   "metadata": {},
   "outputs": [
    {
     "name": "stderr",
     "output_type": "stream",
     "text": [
      "/home/prasun/anaconda3/envs/tensorflow/lib/python3.10/site-packages/seaborn/axisgrid.py:337: UserWarning: The `size` parameter has been renamed to `height`; please update your code.\n",
      "  warnings.warn(msg, UserWarning)\n",
      "/home/prasun/anaconda3/envs/tensorflow/lib/python3.10/site-packages/seaborn/distributions.py:2619: FutureWarning: `distplot` is a deprecated function and will be removed in a future version. Please adapt your code to use either `displot` (a figure-level function with similar flexibility) or `histplot` (an axes-level function for histograms).\n",
      "  warnings.warn(msg, FutureWarning)\n",
      "/home/prasun/anaconda3/envs/tensorflow/lib/python3.10/site-packages/seaborn/distributions.py:2619: FutureWarning: `distplot` is a deprecated function and will be removed in a future version. Please adapt your code to use either `displot` (a figure-level function with similar flexibility) or `histplot` (an axes-level function for histograms).\n",
      "  warnings.warn(msg, FutureWarning)\n"
     ]
    },
    {
     "data": {
      "image/png": "[encoded data removed]",
      "text/plain": [
       "<Figure size 413.75x360 with 1 Axes>"
      ]
     },
     "metadata": {
      "needs_background": "light"
     },
     "output_type": "display_data"
    }
   ],
   "source": [
    "sns.FacetGrid(df, hue=\"Research\", size=5) \\\n",
    "   .map(sns.distplot, \"Chance of Admit\") \\\n",
    "   .add_legend();\n",
    "plt.show();\n"
   ]
  },
  {
   "cell_type": "markdown",
   "id": "444127a5",
   "metadata": {},
   "source": [
    "> Persons having Research having Chance of Admit is high, but there are few cases where persons don't have Research having Chance of Admit is high. So, Research column does not predict properly the Chance of Admit score."
   ]
  },
  {
   "cell_type": "code",
   "execution_count": 21,
   "id": "ed86ea42",
   "metadata": {},
   "outputs": [
    {
     "data": {
      "image/png": "[encoded data removed]",
      "text/plain": [
       "<Figure size 720x576 with 2 Axes>"
      ]
     },
     "metadata": {
      "needs_background": "light"
     },
     "output_type": "display_data"
    }
   ],
   "source": [
    "# Correlation matrix for all continuous features\n",
    "df_continuous = df_new.drop(['Research'], axis=1).copy()\n",
    "corr = df_continuous.corr()\n",
    "\n",
    "plt.figure(figsize=(10, 8))\n",
    "sns.heatmap(corr, annot=True, vmin=-1.0, cmap='mako')\n",
    "plt.show()"
   ]
  },
  {
   "cell_type": "markdown",
   "id": "8f78fcb5",
   "metadata": {},
   "source": [
    "> As from above correlation matrix we can ensures the following observations \n",
    ">\n",
    "> GRE Score and TOEFL Score are highly correlated to each other.\\\n",
    "> GRE Score and CGPA are highly correlated to each other.\\\n",
    "> TOEFL Score and CGPA are highly correlated to each other. \\\n",
    "> GRE Score and LOR are relatively less correlated to each other."
   ]
  },
  {
   "cell_type": "markdown",
   "id": "522999c8",
   "metadata": {},
   "source": [
    "## 2.3 Scaling"
   ]
  },
  {
   "cell_type": "code",
   "execution_count": 22,
   "id": "6b15c81a",
   "metadata": {},
   "outputs": [
    {
     "data": {
      "text/html": [
       "<div>\n",
       "<style scoped>\n",
       "    .dataframe tbody tr th:only-of-type {\n",
       "        vertical-align: middle;\n",
       "    }\n",
       "\n",
       "    .dataframe tbody tr th {\n",
       "        vertical-align: top;\n",
       "    }\n",
       "\n",
       "    .dataframe thead th {\n",
       "        text-align: right;\n",
       "    }\n",
       "</style>\n",
       "<table border=\"1\" class=\"dataframe\">\n",
       "  <thead>\n",
       "    <tr style=\"text-align: right;\">\n",
       "      <th></th>\n",
       "      <th>GRE Score</th>\n",
       "      <th>TOEFL Score</th>\n",
       "      <th>University Rating</th>\n",
       "      <th>SOP</th>\n",
       "      <th>LOR</th>\n",
       "      <th>CGPA</th>\n",
       "      <th>Research</th>\n",
       "    </tr>\n",
       "  </thead>\n",
       "  <tbody>\n",
       "    <tr>\n",
       "      <th>0</th>\n",
       "      <td>337</td>\n",
       "      <td>118</td>\n",
       "      <td>4</td>\n",
       "      <td>4.5</td>\n",
       "      <td>4.5</td>\n",
       "      <td>9.65</td>\n",
       "      <td>1</td>\n",
       "    </tr>\n",
       "    <tr>\n",
       "      <th>1</th>\n",
       "      <td>324</td>\n",
       "      <td>107</td>\n",
       "      <td>4</td>\n",
       "      <td>4.0</td>\n",
       "      <td>4.5</td>\n",
       "      <td>8.87</td>\n",
       "      <td>1</td>\n",
       "    </tr>\n",
       "    <tr>\n",
       "      <th>2</th>\n",
       "      <td>316</td>\n",
       "      <td>104</td>\n",
       "      <td>3</td>\n",
       "      <td>3.0</td>\n",
       "      <td>3.5</td>\n",
       "      <td>8.00</td>\n",
       "      <td>1</td>\n",
       "    </tr>\n",
       "    <tr>\n",
       "      <th>3</th>\n",
       "      <td>322</td>\n",
       "      <td>110</td>\n",
       "      <td>3</td>\n",
       "      <td>3.5</td>\n",
       "      <td>2.5</td>\n",
       "      <td>8.67</td>\n",
       "      <td>1</td>\n",
       "    </tr>\n",
       "    <tr>\n",
       "      <th>4</th>\n",
       "      <td>314</td>\n",
       "      <td>103</td>\n",
       "      <td>2</td>\n",
       "      <td>2.0</td>\n",
       "      <td>3.0</td>\n",
       "      <td>8.21</td>\n",
       "      <td>0</td>\n",
       "    </tr>\n",
       "  </tbody>\n",
       "</table>\n",
       "</div>"
      ],
      "text/plain": [
       "   GRE Score  TOEFL Score  University Rating  SOP  LOR  CGPA  Research\n",
       "0        337          118                  4  4.5  4.5  9.65         1\n",
       "1        324          107                  4  4.0  4.5  8.87         1\n",
       "2        316          104                  3  3.0  3.5  8.00         1\n",
       "3        322          110                  3  3.5  2.5  8.67         1\n",
       "4        314          103                  2  2.0  3.0  8.21         0"
      ]
     },
     "execution_count": 22,
     "metadata": {},
     "output_type": "execute_result"
    }
   ],
   "source": [
    "df_new.head()"
   ]
  },
  {
   "cell_type": "markdown",
   "id": "e7d23f53",
   "metadata": {},
   "source": [
    "> As we see from above feature we will apply StandardScaler on ['GRE Score', 'TOEFL Score', 'CGPA'] as other features are distrete in nature so no need of feature scaling on those features."
   ]
  },
  {
   "cell_type": "code",
   "execution_count": 23,
   "id": "9616a9f4",
   "metadata": {},
   "outputs": [],
   "source": [
    "# perform scaling using StandardScaler\n",
    "from sklearn.preprocessing import StandardScaler\n",
    "scaler = StandardScaler()"
   ]
  },
  {
   "cell_type": "code",
   "execution_count": 24,
   "id": "3e5dfdca",
   "metadata": {},
   "outputs": [],
   "source": [
    "df_scaled = pd.DataFrame()\n",
    "df_scaled = df_new.copy()\n",
    "df_scaled[['GRE Score', 'TOEFL Score', 'CGPA']] = scaler.fit_transform(df_new[['GRE Score', 'TOEFL Score', 'CGPA']])"
   ]
  },
  {
   "cell_type": "code",
   "execution_count": 25,
   "id": "292dfb18",
   "metadata": {},
   "outputs": [
    {
     "data": {
      "text/html": [
       "<div>\n",
       "<style scoped>\n",
       "    .dataframe tbody tr th:only-of-type {\n",
       "        vertical-align: middle;\n",
       "    }\n",
       "\n",
       "    .dataframe tbody tr th {\n",
       "        vertical-align: top;\n",
       "    }\n",
       "\n",
       "    .dataframe thead th {\n",
       "        text-align: right;\n",
       "    }\n",
       "</style>\n",
       "<table border=\"1\" class=\"dataframe\">\n",
       "  <thead>\n",
       "    <tr style=\"text-align: right;\">\n",
       "      <th></th>\n",
       "      <th>GRE Score</th>\n",
       "      <th>TOEFL Score</th>\n",
       "      <th>University Rating</th>\n",
       "      <th>SOP</th>\n",
       "      <th>LOR</th>\n",
       "      <th>CGPA</th>\n",
       "      <th>Research</th>\n",
       "    </tr>\n",
       "  </thead>\n",
       "  <tbody>\n",
       "    <tr>\n",
       "      <th>0</th>\n",
       "      <td>1.762107</td>\n",
       "      <td>1.746971</td>\n",
       "      <td>4</td>\n",
       "      <td>4.5</td>\n",
       "      <td>4.5</td>\n",
       "      <td>1.764818</td>\n",
       "      <td>1</td>\n",
       "    </tr>\n",
       "    <tr>\n",
       "      <th>1</th>\n",
       "      <td>0.627656</td>\n",
       "      <td>-0.067635</td>\n",
       "      <td>4</td>\n",
       "      <td>4.0</td>\n",
       "      <td>4.5</td>\n",
       "      <td>0.455151</td>\n",
       "      <td>1</td>\n",
       "    </tr>\n",
       "    <tr>\n",
       "      <th>2</th>\n",
       "      <td>-0.070467</td>\n",
       "      <td>-0.562528</td>\n",
       "      <td>3</td>\n",
       "      <td>3.0</td>\n",
       "      <td>3.5</td>\n",
       "      <td>-1.005631</td>\n",
       "      <td>1</td>\n",
       "    </tr>\n",
       "    <tr>\n",
       "      <th>3</th>\n",
       "      <td>0.453126</td>\n",
       "      <td>0.427257</td>\n",
       "      <td>3</td>\n",
       "      <td>3.5</td>\n",
       "      <td>2.5</td>\n",
       "      <td>0.119339</td>\n",
       "      <td>1</td>\n",
       "    </tr>\n",
       "    <tr>\n",
       "      <th>4</th>\n",
       "      <td>-0.244998</td>\n",
       "      <td>-0.727492</td>\n",
       "      <td>2</td>\n",
       "      <td>2.0</td>\n",
       "      <td>3.0</td>\n",
       "      <td>-0.653029</td>\n",
       "      <td>0</td>\n",
       "    </tr>\n",
       "  </tbody>\n",
       "</table>\n",
       "</div>"
      ],
      "text/plain": [
       "   GRE Score  TOEFL Score  University Rating  SOP  LOR      CGPA  Research\n",
       "0   1.762107     1.746971                  4  4.5  4.5  1.764818         1\n",
       "1   0.627656    -0.067635                  4  4.0  4.5  0.455151         1\n",
       "2  -0.070467    -0.562528                  3  3.0  3.5 -1.005631         1\n",
       "3   0.453126     0.427257                  3  3.5  2.5  0.119339         1\n",
       "4  -0.244998    -0.727492                  2  2.0  3.0 -0.653029         0"
      ]
     },
     "execution_count": 25,
     "metadata": {},
     "output_type": "execute_result"
    }
   ],
   "source": [
    "df_scaled.head()"
   ]
  },
  {
   "cell_type": "markdown",
   "id": "e7f40619",
   "metadata": {},
   "source": [
    "# 3 Feature Selection"
   ]
  },
  {
   "cell_type": "markdown",
   "id": "3d9f64d3",
   "metadata": {},
   "source": [
    "> Let see which features are more relevent to predict Chance of Admit"
   ]
  },
  {
   "cell_type": "markdown",
   "id": "91752586",
   "metadata": {},
   "source": [
    "## 3.1 Feature Selection-Information gain"
   ]
  },
  {
   "cell_type": "code",
   "execution_count": 26,
   "id": "e2ea9bdc",
   "metadata": {},
   "outputs": [
    {
     "data": {
      "text/plain": [
       "array([0.63058587, 0.59482825, 0.42315045, 0.36073342, 0.29073637,\n",
       "       0.95767065, 0.22563464])"
      ]
     },
     "execution_count": 26,
     "metadata": {},
     "output_type": "execute_result"
    }
   ],
   "source": [
    "from sklearn.feature_selection import mutual_info_regression\n",
    "\n",
    "# determine the mutual information\n",
    "mutual_info = mutual_info_regression(df_scaled, df['Chance of Admit'])\n",
    "mutual_info"
   ]
  },
  {
   "cell_type": "code",
   "execution_count": 27,
   "id": "8a0c421a",
   "metadata": {},
   "outputs": [
    {
     "data": {
      "text/plain": [
       "CGPA                 0.957671\n",
       "GRE Score            0.630586\n",
       "TOEFL Score          0.594828\n",
       "University Rating    0.423150\n",
       "SOP                  0.360733\n",
       "LOR                  0.290736\n",
       "Research             0.225635\n",
       "dtype: float64"
      ]
     },
     "execution_count": 27,
     "metadata": {},
     "output_type": "execute_result"
    }
   ],
   "source": [
    "mutual_info = pd.Series(mutual_info)\n",
    "mutual_info.index = df_scaled.columns\n",
    "mutual_info.sort_values(ascending=False)"
   ]
  },
  {
   "cell_type": "code",
   "execution_count": 28,
   "id": "f11a8ae3",
   "metadata": {},
   "outputs": [
    {
     "data": {
      "text/plain": [
       "<AxesSubplot:>"
      ]
     },
     "execution_count": 28,
     "metadata": {},
     "output_type": "execute_result"
    },
    {
     "data": {
      "image/png": "[encoded data removed]",
      "text/plain": [
       "<Figure size 1080x360 with 1 Axes>"
      ]
     },
     "metadata": {
      "needs_background": "light"
     },
     "output_type": "display_data"
    }
   ],
   "source": [
    "mutual_info.sort_values(ascending=False).plot.bar(figsize=(15,5))"
   ]
  },
  {
   "cell_type": "markdown",
   "id": "8aa0c07a",
   "metadata": {},
   "source": [
    "> As from above barplots we can see feature importance in decreasing order"
   ]
  },
  {
   "cell_type": "code",
   "execution_count": 29,
   "id": "576472cf",
   "metadata": {},
   "outputs": [
    {
     "data": {
      "text/html": [
       "<div>\n",
       "<style scoped>\n",
       "    .dataframe tbody tr th:only-of-type {\n",
       "        vertical-align: middle;\n",
       "    }\n",
       "\n",
       "    .dataframe tbody tr th {\n",
       "        vertical-align: top;\n",
       "    }\n",
       "\n",
       "    .dataframe thead th {\n",
       "        text-align: right;\n",
       "    }\n",
       "</style>\n",
       "<table border=\"1\" class=\"dataframe\">\n",
       "  <thead>\n",
       "    <tr style=\"text-align: right;\">\n",
       "      <th></th>\n",
       "      <th>GRE Score</th>\n",
       "      <th>TOEFL Score</th>\n",
       "      <th>University Rating</th>\n",
       "      <th>SOP</th>\n",
       "      <th>CGPA</th>\n",
       "    </tr>\n",
       "  </thead>\n",
       "  <tbody>\n",
       "    <tr>\n",
       "      <th>0</th>\n",
       "      <td>1.762107</td>\n",
       "      <td>1.746971</td>\n",
       "      <td>4</td>\n",
       "      <td>4.5</td>\n",
       "      <td>1.764818</td>\n",
       "    </tr>\n",
       "    <tr>\n",
       "      <th>1</th>\n",
       "      <td>0.627656</td>\n",
       "      <td>-0.067635</td>\n",
       "      <td>4</td>\n",
       "      <td>4.0</td>\n",
       "      <td>0.455151</td>\n",
       "    </tr>\n",
       "    <tr>\n",
       "      <th>2</th>\n",
       "      <td>-0.070467</td>\n",
       "      <td>-0.562528</td>\n",
       "      <td>3</td>\n",
       "      <td>3.0</td>\n",
       "      <td>-1.005631</td>\n",
       "    </tr>\n",
       "    <tr>\n",
       "      <th>3</th>\n",
       "      <td>0.453126</td>\n",
       "      <td>0.427257</td>\n",
       "      <td>3</td>\n",
       "      <td>3.5</td>\n",
       "      <td>0.119339</td>\n",
       "    </tr>\n",
       "    <tr>\n",
       "      <th>4</th>\n",
       "      <td>-0.244998</td>\n",
       "      <td>-0.727492</td>\n",
       "      <td>2</td>\n",
       "      <td>2.0</td>\n",
       "      <td>-0.653029</td>\n",
       "    </tr>\n",
       "  </tbody>\n",
       "</table>\n",
       "</div>"
      ],
      "text/plain": [
       "   GRE Score  TOEFL Score  University Rating  SOP      CGPA\n",
       "0   1.762107     1.746971                  4  4.5  1.764818\n",
       "1   0.627656    -0.067635                  4  4.0  0.455151\n",
       "2  -0.070467    -0.562528                  3  3.0 -1.005631\n",
       "3   0.453126     0.427257                  3  3.5  0.119339\n",
       "4  -0.244998    -0.727492                  2  2.0 -0.653029"
      ]
     },
     "execution_count": 29,
     "metadata": {},
     "output_type": "execute_result"
    }
   ],
   "source": [
    "# Creating a new dataset which exclude ['LOR', 'Research'] features from df_scaled\n",
    "\n",
    "df_preproc = df_scaled.drop(['LOR', 'Research'], axis=1)\n",
    "df_preproc.head()"
   ]
  },
  {
   "cell_type": "markdown",
   "id": "3cb94a3c",
   "metadata": {},
   "source": [
    "# 4. Data Splitting"
   ]
  },
  {
   "cell_type": "code",
   "execution_count": 30,
   "id": "59cb55e4",
   "metadata": {},
   "outputs": [],
   "source": [
    "# perform train-test split on entire data\n",
    "\n",
    "from sklearn.model_selection import train_test_split\n",
    "X_train, X_test, y_train, y_test = train_test_split(df_preproc, df['Chance of Admit'], test_size=0.2, shuffle=True,random_state=84)"
   ]
  },
  {
   "cell_type": "code",
   "execution_count": 31,
   "id": "3dcdbb86",
   "metadata": {},
   "outputs": [
    {
     "name": "stdout",
     "output_type": "stream",
     "text": [
      "X_train and y_train : ((320, 5),(320,))\n",
      "X_test  and y_test  : ((80, 5),(80,))\n"
     ]
    }
   ],
   "source": [
    "print('X_train and y_train : ({},{})'.format(X_train.shape, y_train.shape))\n",
    "print('X_test  and y_test  : ({},{})'.format(X_test.shape, y_test.shape))"
   ]
  },
  {
   "cell_type": "markdown",
   "id": "dc77f94a",
   "metadata": {},
   "source": [
    "# 5. Modeling"
   ]
  },
  {
   "cell_type": "markdown",
   "id": "7501b12c",
   "metadata": {},
   "source": [
    "## 5.1. Implementing LinearRegression"
   ]
  },
  {
   "cell_type": "code",
   "execution_count": 32,
   "id": "44684d8f",
   "metadata": {},
   "outputs": [],
   "source": [
    "# import Linear Regression from Sklearn\n",
    "from sklearn.linear_model import LinearRegression"
   ]
  },
  {
   "cell_type": "code",
   "execution_count": 33,
   "id": "856b78d7",
   "metadata": {},
   "outputs": [],
   "source": [
    "# making instance of Linear Regression after fitting with X_train and y_train\n",
    "reg = LinearRegression().fit(X_train, y_train)"
   ]
  },
  {
   "cell_type": "code",
   "execution_count": 34,
   "id": "17144c31",
   "metadata": {},
   "outputs": [],
   "source": [
    "# predict using X_train\n",
    "y_pred_reg_tr = reg.predict(X_train)"
   ]
  },
  {
   "cell_type": "code",
   "execution_count": 35,
   "id": "28426cf9",
   "metadata": {},
   "outputs": [],
   "source": [
    "# predict using X_test\n",
    "y_pred_reg = reg.predict(X_test)"
   ]
  },
  {
   "cell_type": "code",
   "execution_count": 36,
   "id": "65f82bad",
   "metadata": {},
   "outputs": [
    {
     "name": "stdout",
     "output_type": "stream",
     "text": [
      "Train MSE:  0.004399435078236263\n",
      "Test MSE:   0.0037589566680028643\n"
     ]
    }
   ],
   "source": [
    "# Evaluating model\n",
    "from sklearn.metrics import mean_squared_error\n",
    "\n",
    "mse_reg = mean_squared_error(y_test, y_pred_reg)\n",
    "mse_reg_tr = mean_squared_error(y_train, y_pred_reg_tr)\n",
    "\n",
    "print(\"Train MSE: \",mse_reg_tr)\n",
    "print(\"Test MSE:  \",mse_reg)"
   ]
  },
  {
   "cell_type": "markdown",
   "id": "5f401aa1",
   "metadata": {},
   "source": [
    "## 5.2 Implementing SVM"
   ]
  },
  {
   "cell_type": "code",
   "execution_count": 37,
   "id": "f653ef80",
   "metadata": {},
   "outputs": [],
   "source": [
    "# import SVR from sklearn.svm\n",
    "from sklearn.svm import SVR"
   ]
  },
  {
   "cell_type": "code",
   "execution_count": 38,
   "id": "b27d2806",
   "metadata": {},
   "outputs": [],
   "source": [
    "# making instance of SVR after fitting with X_train and y_train\n",
    "svr = SVR(kernel = 'rbf').fit(X_train, y_train)"
   ]
  },
  {
   "cell_type": "code",
   "execution_count": 39,
   "id": "5ab03688",
   "metadata": {},
   "outputs": [],
   "source": [
    "# predict using X_train\n",
    "y_pred_svm_tr = svr.predict(X_train)"
   ]
  },
  {
   "cell_type": "code",
   "execution_count": 40,
   "id": "47cc605a",
   "metadata": {},
   "outputs": [],
   "source": [
    "# predict using X_test\n",
    "y_pred_svr = svr.predict(X_test)"
   ]
  },
  {
   "cell_type": "code",
   "execution_count": 41,
   "id": "32dc5f33",
   "metadata": {},
   "outputs": [
    {
     "name": "stdout",
     "output_type": "stream",
     "text": [
      "Train MSE:  0.005486046773511851\n",
      "Test MSE:   0.0065021064882161365\n"
     ]
    }
   ],
   "source": [
    "# Evaluating model\n",
    "\n",
    "mse_svr_tr = mean_squared_error(y_train, y_pred_svm_tr)\n",
    "mse_svr = mean_squared_error(y_test, y_pred_svr)\n",
    "\n",
    "print(\"Train MSE: \",mse_svr_tr)\n",
    "print(\"Test MSE:  \",mse_svr)"
   ]
  },
  {
   "cell_type": "markdown",
   "id": "5f85f5fc",
   "metadata": {},
   "source": [
    "> As from above results we will stick with Linear Regression model as it gives less MSE as compare to SVM model, and this gets less overfit."
   ]
  },
  {
   "cell_type": "markdown",
   "id": "4264afb0",
   "metadata": {},
   "source": [
    "# 6. Creating CSV files of predictions chance of admission for the test set"
   ]
  },
  {
   "cell_type": "code",
   "execution_count": 42,
   "id": "05939625",
   "metadata": {},
   "outputs": [
    {
     "data": {
      "text/html": [
       "<div>\n",
       "<style scoped>\n",
       "    .dataframe tbody tr th:only-of-type {\n",
       "        vertical-align: middle;\n",
       "    }\n",
       "\n",
       "    .dataframe tbody tr th {\n",
       "        vertical-align: top;\n",
       "    }\n",
       "\n",
       "    .dataframe thead th {\n",
       "        text-align: right;\n",
       "    }\n",
       "</style>\n",
       "<table border=\"1\" class=\"dataframe\">\n",
       "  <thead>\n",
       "    <tr style=\"text-align: right;\">\n",
       "      <th></th>\n",
       "      <th>GRE Score</th>\n",
       "      <th>TOEFL Score</th>\n",
       "      <th>University Rating</th>\n",
       "      <th>SOP</th>\n",
       "      <th>CGPA</th>\n",
       "    </tr>\n",
       "  </thead>\n",
       "  <tbody>\n",
       "    <tr>\n",
       "      <th>70</th>\n",
       "      <td>1.325780</td>\n",
       "      <td>1.746971</td>\n",
       "      <td>5</td>\n",
       "      <td>5.0</td>\n",
       "      <td>1.748028</td>\n",
       "    </tr>\n",
       "    <tr>\n",
       "      <th>357</th>\n",
       "      <td>-1.379448</td>\n",
       "      <td>-0.562528</td>\n",
       "      <td>2</td>\n",
       "      <td>3.5</td>\n",
       "      <td>-1.190328</td>\n",
       "    </tr>\n",
       "    <tr>\n",
       "      <th>52</th>\n",
       "      <td>1.500310</td>\n",
       "      <td>1.417042</td>\n",
       "      <td>4</td>\n",
       "      <td>4.0</td>\n",
       "      <td>-1.005631</td>\n",
       "    </tr>\n",
       "    <tr>\n",
       "      <th>146</th>\n",
       "      <td>-0.157732</td>\n",
       "      <td>-0.397564</td>\n",
       "      <td>3</td>\n",
       "      <td>2.0</td>\n",
       "      <td>-0.199682</td>\n",
       "    </tr>\n",
       "    <tr>\n",
       "      <th>107</th>\n",
       "      <td>1.849372</td>\n",
       "      <td>1.582006</td>\n",
       "      <td>4</td>\n",
       "      <td>3.5</td>\n",
       "      <td>1.445797</td>\n",
       "    </tr>\n",
       "  </tbody>\n",
       "</table>\n",
       "</div>"
      ],
      "text/plain": [
       "     GRE Score  TOEFL Score  University Rating  SOP      CGPA\n",
       "70    1.325780     1.746971                  5  5.0  1.748028\n",
       "357  -1.379448    -0.562528                  2  3.5 -1.190328\n",
       "52    1.500310     1.417042                  4  4.0 -1.005631\n",
       "146  -0.157732    -0.397564                  3  2.0 -0.199682\n",
       "107   1.849372     1.582006                  4  3.5  1.445797"
      ]
     },
     "execution_count": 42,
     "metadata": {},
     "output_type": "execute_result"
    }
   ],
   "source": [
    "X_test.head()"
   ]
  },
  {
   "cell_type": "code",
   "execution_count": 43,
   "id": "ad08b084",
   "metadata": {},
   "outputs": [],
   "source": [
    "# making seperate dataframe for test data\n",
    "df_test = pd.DataFrame()\n",
    "df_test = X_test\n",
    "df_test['Chance of Admit'] = y_test\n",
    "df_test['predicted Chance of Admit'] = y_pred_reg"
   ]
  },
  {
   "cell_type": "code",
   "execution_count": 44,
   "id": "8faae17c",
   "metadata": {},
   "outputs": [
    {
     "data": {
      "text/html": [
       "<div>\n",
       "<style scoped>\n",
       "    .dataframe tbody tr th:only-of-type {\n",
       "        vertical-align: middle;\n",
       "    }\n",
       "\n",
       "    .dataframe tbody tr th {\n",
       "        vertical-align: top;\n",
       "    }\n",
       "\n",
       "    .dataframe thead th {\n",
       "        text-align: right;\n",
       "    }\n",
       "</style>\n",
       "<table border=\"1\" class=\"dataframe\">\n",
       "  <thead>\n",
       "    <tr style=\"text-align: right;\">\n",
       "      <th></th>\n",
       "      <th>GRE Score</th>\n",
       "      <th>TOEFL Score</th>\n",
       "      <th>University Rating</th>\n",
       "      <th>SOP</th>\n",
       "      <th>CGPA</th>\n",
       "      <th>Chance of Admit</th>\n",
       "      <th>predicted Chance of Admit</th>\n",
       "    </tr>\n",
       "  </thead>\n",
       "  <tbody>\n",
       "    <tr>\n",
       "      <th>70</th>\n",
       "      <td>1.325780</td>\n",
       "      <td>1.746971</td>\n",
       "      <td>5</td>\n",
       "      <td>5.0</td>\n",
       "      <td>1.748028</td>\n",
       "      <td>0.94</td>\n",
       "      <td>0.942800</td>\n",
       "    </tr>\n",
       "    <tr>\n",
       "      <th>357</th>\n",
       "      <td>-1.379448</td>\n",
       "      <td>-0.562528</td>\n",
       "      <td>2</td>\n",
       "      <td>3.5</td>\n",
       "      <td>-1.190328</td>\n",
       "      <td>0.68</td>\n",
       "      <td>0.573815</td>\n",
       "    </tr>\n",
       "    <tr>\n",
       "      <th>52</th>\n",
       "      <td>1.500310</td>\n",
       "      <td>1.417042</td>\n",
       "      <td>4</td>\n",
       "      <td>4.0</td>\n",
       "      <td>-1.005631</td>\n",
       "      <td>0.78</td>\n",
       "      <td>0.710541</td>\n",
       "    </tr>\n",
       "    <tr>\n",
       "      <th>146</th>\n",
       "      <td>-0.157732</td>\n",
       "      <td>-0.397564</td>\n",
       "      <td>3</td>\n",
       "      <td>2.0</td>\n",
       "      <td>-0.199682</td>\n",
       "      <td>0.75</td>\n",
       "      <td>0.686423</td>\n",
       "    </tr>\n",
       "    <tr>\n",
       "      <th>107</th>\n",
       "      <td>1.849372</td>\n",
       "      <td>1.582006</td>\n",
       "      <td>4</td>\n",
       "      <td>3.5</td>\n",
       "      <td>1.445797</td>\n",
       "      <td>0.91</td>\n",
       "      <td>0.914750</td>\n",
       "    </tr>\n",
       "  </tbody>\n",
       "</table>\n",
       "</div>"
      ],
      "text/plain": [
       "     GRE Score  TOEFL Score  University Rating  SOP      CGPA  \\\n",
       "70    1.325780     1.746971                  5  5.0  1.748028   \n",
       "357  -1.379448    -0.562528                  2  3.5 -1.190328   \n",
       "52    1.500310     1.417042                  4  4.0 -1.005631   \n",
       "146  -0.157732    -0.397564                  3  2.0 -0.199682   \n",
       "107   1.849372     1.582006                  4  3.5  1.445797   \n",
       "\n",
       "     Chance of Admit  predicted Chance of Admit  \n",
       "70              0.94                   0.942800  \n",
       "357             0.68                   0.573815  \n",
       "52              0.78                   0.710541  \n",
       "146             0.75                   0.686423  \n",
       "107             0.91                   0.914750  "
      ]
     },
     "execution_count": 44,
     "metadata": {},
     "output_type": "execute_result"
    }
   ],
   "source": [
    "df_test.head()"
   ]
  },
  {
   "cell_type": "code",
   "execution_count": 45,
   "id": "d57c940a",
   "metadata": {},
   "outputs": [],
   "source": [
    "# saving CSV file\n",
    "df_test.to_csv(\"test_pred_Linear_Regression.csv\", index= False)"
   ]
  },
  {
   "cell_type": "code",
   "execution_count": null,
   "id": "34642f06",
   "metadata": {},
   "outputs": [],
   "source": []
  },
  {
   "cell_type": "markdown",
   "id": "91b5555f",
   "metadata": {},
   "source": [
    "# 7. Useing PCA"
   ]
  },
  {
   "cell_type": "code",
   "execution_count": 46,
   "id": "00420675",
   "metadata": {},
   "outputs": [
    {
     "data": {
      "text/html": [
       "<div>\n",
       "<style scoped>\n",
       "    .dataframe tbody tr th:only-of-type {\n",
       "        vertical-align: middle;\n",
       "    }\n",
       "\n",
       "    .dataframe tbody tr th {\n",
       "        vertical-align: top;\n",
       "    }\n",
       "\n",
       "    .dataframe thead th {\n",
       "        text-align: right;\n",
       "    }\n",
       "</style>\n",
       "<table border=\"1\" class=\"dataframe\">\n",
       "  <thead>\n",
       "    <tr style=\"text-align: right;\">\n",
       "      <th></th>\n",
       "      <th>GRE Score</th>\n",
       "      <th>TOEFL Score</th>\n",
       "      <th>University Rating</th>\n",
       "      <th>SOP</th>\n",
       "      <th>LOR</th>\n",
       "      <th>CGPA</th>\n",
       "      <th>Research</th>\n",
       "    </tr>\n",
       "  </thead>\n",
       "  <tbody>\n",
       "    <tr>\n",
       "      <th>0</th>\n",
       "      <td>337</td>\n",
       "      <td>118</td>\n",
       "      <td>4</td>\n",
       "      <td>4.5</td>\n",
       "      <td>4.5</td>\n",
       "      <td>9.65</td>\n",
       "      <td>1</td>\n",
       "    </tr>\n",
       "    <tr>\n",
       "      <th>1</th>\n",
       "      <td>324</td>\n",
       "      <td>107</td>\n",
       "      <td>4</td>\n",
       "      <td>4.0</td>\n",
       "      <td>4.5</td>\n",
       "      <td>8.87</td>\n",
       "      <td>1</td>\n",
       "    </tr>\n",
       "    <tr>\n",
       "      <th>2</th>\n",
       "      <td>316</td>\n",
       "      <td>104</td>\n",
       "      <td>3</td>\n",
       "      <td>3.0</td>\n",
       "      <td>3.5</td>\n",
       "      <td>8.00</td>\n",
       "      <td>1</td>\n",
       "    </tr>\n",
       "    <tr>\n",
       "      <th>3</th>\n",
       "      <td>322</td>\n",
       "      <td>110</td>\n",
       "      <td>3</td>\n",
       "      <td>3.5</td>\n",
       "      <td>2.5</td>\n",
       "      <td>8.67</td>\n",
       "      <td>1</td>\n",
       "    </tr>\n",
       "    <tr>\n",
       "      <th>4</th>\n",
       "      <td>314</td>\n",
       "      <td>103</td>\n",
       "      <td>2</td>\n",
       "      <td>2.0</td>\n",
       "      <td>3.0</td>\n",
       "      <td>8.21</td>\n",
       "      <td>0</td>\n",
       "    </tr>\n",
       "  </tbody>\n",
       "</table>\n",
       "</div>"
      ],
      "text/plain": [
       "   GRE Score  TOEFL Score  University Rating  SOP  LOR  CGPA  Research\n",
       "0        337          118                  4  4.5  4.5  9.65         1\n",
       "1        324          107                  4  4.0  4.5  8.87         1\n",
       "2        316          104                  3  3.0  3.5  8.00         1\n",
       "3        322          110                  3  3.5  2.5  8.67         1\n",
       "4        314          103                  2  2.0  3.0  8.21         0"
      ]
     },
     "execution_count": 46,
     "metadata": {},
     "output_type": "execute_result"
    }
   ],
   "source": [
    "df_new.head()"
   ]
  },
  {
   "cell_type": "markdown",
   "id": "5e6689c5",
   "metadata": {},
   "source": [
    "## 7.1 Creating new dataset using PCA"
   ]
  },
  {
   "cell_type": "code",
   "execution_count": 47,
   "id": "81eef5d1",
   "metadata": {},
   "outputs": [
    {
     "name": "stdout",
     "output_type": "stream",
     "text": [
      "shape of pca_reduced.shape =  (400, 2)\n"
     ]
    }
   ],
   "source": [
    "# initializing the pca\n",
    "from sklearn import decomposition\n",
    "pca = decomposition.PCA()\n",
    "\n",
    "# configuring the parameteres\n",
    "# the number of components = 2\n",
    "pca.n_components = 2\n",
    "pca_data = pca.fit_transform(df_new)\n",
    "\n",
    "# pca_reduced will contain the 2-d projects of simple data\n",
    "\n",
    "print(\"shape of pca_reduced.shape = \", pca_data.shape)"
   ]
  },
  {
   "cell_type": "code",
   "execution_count": 48,
   "id": "a91be015",
   "metadata": {},
   "outputs": [
    {
     "name": "stdout",
     "output_type": "stream",
     "text": [
      "(400, 3)\n",
      "   1st_principal  2nd_principal  Chance of Admit\n",
      "0     -22.874437       0.842160             0.92\n",
      "1      -6.437340      -3.351222             0.76\n",
      "2       2.221243      -2.744568             0.72\n",
      "3      -5.744984       0.000912             0.80\n",
      "4       4.594122      -2.912718             0.65\n"
     ]
    }
   ],
   "source": [
    "import seaborn as sn\n",
    "# attaching the label for each 2-d data point \n",
    "pca_data = np.vstack((pca_data.T, df['Chance of Admit'])).T\n",
    "\n",
    "print(pca_data.shape)\n",
    "\n",
    "# creating a new data fram which help us in ploting the result data\n",
    "pca_df = pd.DataFrame(data=pca_data, columns=(\"1st_principal\", \"2nd_principal\", \"Chance of Admit\"))\n",
    "print(pca_df.head(5))"
   ]
  },
  {
   "cell_type": "code",
   "execution_count": 49,
   "id": "1e82c247",
   "metadata": {},
   "outputs": [
    {
     "data": {
      "image/png": "[encoded data removed]",
      "text/plain": [
       "<Figure size 432x288 with 1 Axes>"
      ]
     },
     "metadata": {
      "needs_background": "light"
     },
     "output_type": "display_data"
    }
   ],
   "source": [
    "sn.scatterplot(x=\"1st_principal\",y=\"2nd_principal\",legend=\"full\",data=pca_df)\n",
    "plt.show()"
   ]
  },
  {
   "cell_type": "code",
   "execution_count": 50,
   "id": "5a6f7ec7",
   "metadata": {},
   "outputs": [
    {
     "data": {
      "text/plain": [
       "(400, 3)"
      ]
     },
     "execution_count": 50,
     "metadata": {},
     "output_type": "execute_result"
    }
   ],
   "source": [
    "pca_df.shape"
   ]
  },
  {
   "cell_type": "markdown",
   "id": "3595c411",
   "metadata": {},
   "source": [
    "## 7.2 Data Splitting"
   ]
  },
  {
   "cell_type": "code",
   "execution_count": 51,
   "id": "bbec25e8",
   "metadata": {},
   "outputs": [],
   "source": [
    "y = pca_df['Chance of Admit']\n",
    "X = pca_df.drop(['Chance of Admit'], axis=1).copy()"
   ]
  },
  {
   "cell_type": "code",
   "execution_count": 52,
   "id": "dd7a9ba0",
   "metadata": {},
   "outputs": [],
   "source": [
    "# perform train-test split on entire data\n",
    "\n",
    "from sklearn.model_selection import train_test_split\n",
    "X_train, X_test, y_train, y_test = train_test_split(X, y, test_size=0.2, shuffle=True,random_state=84)"
   ]
  },
  {
   "cell_type": "code",
   "execution_count": 53,
   "id": "d0f7dc47",
   "metadata": {},
   "outputs": [
    {
     "name": "stdout",
     "output_type": "stream",
     "text": [
      "X_train and y_train : ((320, 2),(320,))\n",
      "X_test  and y_test  : ((80, 2),(80,))\n"
     ]
    }
   ],
   "source": [
    "print('X_train and y_train : ({},{})'.format(X_train.shape, y_train.shape))\n",
    "print('X_test  and y_test  : ({},{})'.format(X_test.shape, y_test.shape))"
   ]
  },
  {
   "cell_type": "markdown",
   "id": "853cf7f0",
   "metadata": {},
   "source": [
    "## 7.3 Modeling"
   ]
  },
  {
   "cell_type": "markdown",
   "id": "cf104420",
   "metadata": {},
   "source": [
    "### 7.3.1 Implementing LinearRegression"
   ]
  },
  {
   "cell_type": "code",
   "execution_count": 54,
   "id": "9bbc0572",
   "metadata": {},
   "outputs": [],
   "source": [
    "# making instance of Linear Regression after fitting with X_train and y_train\n",
    "reg_pca = LinearRegression().fit(X_train, y_train)"
   ]
  },
  {
   "cell_type": "code",
   "execution_count": 55,
   "id": "ccf3d4c3",
   "metadata": {},
   "outputs": [],
   "source": [
    "# predict using X_train\n",
    "y_pred_reg_pca_tr = reg_pca.predict(X_train)"
   ]
  },
  {
   "cell_type": "code",
   "execution_count": 56,
   "id": "d1f6c8b6",
   "metadata": {},
   "outputs": [],
   "source": [
    "# predict using X_test\n",
    "y_pred_reg_pca = reg_pca.predict(X_test)"
   ]
  },
  {
   "cell_type": "code",
   "execution_count": 57,
   "id": "3ed1b30a",
   "metadata": {},
   "outputs": [
    {
     "name": "stdout",
     "output_type": "stream",
     "text": [
      "Train MSE:  0.0062597235766141636\n",
      "Test MSE:  0.005625400044162924\n"
     ]
    }
   ],
   "source": [
    "# Evaluating model\n",
    "\n",
    "mse_reg_pca_tr = mean_squared_error(y_train, y_pred_reg_pca_tr)\n",
    "mse_reg_pca = mean_squared_error(y_test, y_pred_reg_pca)\n",
    "\n",
    "print(\"Train MSE: \",mse_reg_pca_tr)\n",
    "print(\"Test MSE: \",mse_reg_pca)"
   ]
  },
  {
   "cell_type": "markdown",
   "id": "32c9ae20",
   "metadata": {},
   "source": [
    "### 7.3.2 Implementing SVM"
   ]
  },
  {
   "cell_type": "code",
   "execution_count": 58,
   "id": "54f4c291",
   "metadata": {},
   "outputs": [],
   "source": [
    "# making instance of SVR after fitting with X_train and y_train\n",
    "svr_pca = SVR(kernel = 'rbf').fit(X_train, y_train)"
   ]
  },
  {
   "cell_type": "code",
   "execution_count": 59,
   "id": "6e1cbf76",
   "metadata": {},
   "outputs": [],
   "source": [
    "# predict using X_train\n",
    "y_pred_svr_pca_tr = svr_pca.predict(X_train)"
   ]
  },
  {
   "cell_type": "code",
   "execution_count": 60,
   "id": "18d8712d",
   "metadata": {},
   "outputs": [],
   "source": [
    "# predict using X_test\n",
    "y_pred_svr_pca = svr_pca.predict(X_test)"
   ]
  },
  {
   "cell_type": "code",
   "execution_count": 61,
   "id": "7c3dc268",
   "metadata": {},
   "outputs": [
    {
     "name": "stdout",
     "output_type": "stream",
     "text": [
      "Train MSE:  0.006472247026485406\n",
      "Test MSE:  0.006279278376696307\n"
     ]
    }
   ],
   "source": [
    "# Evaluating model\n",
    "\n",
    "mse_svr_pca_tr = mean_squared_error(y_train, y_pred_svr_pca_tr)\n",
    "mse_svr_pca = mean_squared_error(y_test, y_pred_svr_pca)\n",
    "\n",
    "print(\"Train MSE: \", mse_svr_pca_tr)\n",
    "print(\"Test MSE: \", mse_svr_pca)"
   ]
  },
  {
   "cell_type": "markdown",
   "id": "9f45ee47",
   "metadata": {},
   "source": [
    "> As from above results we will stick with Linear Regression model as it gives less MSE as compare to SVM model, and and this gets less overfit."
   ]
  },
  {
   "cell_type": "markdown",
   "id": "bc6ffde0",
   "metadata": {},
   "source": [
    "### 7.3.3 Generate Scatter plot"
   ]
  },
  {
   "cell_type": "code",
   "execution_count": 62,
   "id": "478c714e",
   "metadata": {},
   "outputs": [
    {
     "data": {
      "application/javascript": [
       "/* Put everything inside the global mpl namespace */\n",
       "/* global mpl */\n",
       "window.mpl = {};\n",
       "\n",
       "mpl.get_websocket_type = function () {\n",
       "    if (typeof WebSocket !== 'undefined') {\n",
       "        return WebSocket;\n",
       "    } else if (typeof MozWebSocket !== 'undefined') {\n",
       "        return MozWebSocket;\n",
       "    } else {\n",
       "        alert(\n",
       "            'Your browser does not have WebSocket support. ' +\n",
       "                'Please try Chrome, Safari or Firefox ≥ 6. ' +\n",
       "                'Firefox 4 and 5 are also supported but you ' +\n",
       "                'have to enable WebSockets in about:config.'\n",
       "        );\n",
       "    }\n",
       "};\n",
       "\n",
       "mpl.figure = function (figure_id, websocket, ondownload, parent_element) {\n",
       "    this.id = figure_id;\n",
       "\n",
       "    this.ws = websocket;\n",
       "\n",
       "    this.supports_binary = this.ws.binaryType !== undefined;\n",
       "\n",
       "    if (!this.supports_binary) {\n",
       "        var warnings = document.getElementById('mpl-warnings');\n",
       "        if (warnings) {\n",
       "            warnings.style.display = 'block';\n",
       "            warnings.textContent =\n",
       "                'This browser does not support binary websocket messages. ' +\n",
       "                'Performance may be slow.';\n",
       "        }\n",
       "    }\n",
       "\n",
       "    this.imageObj = new Image();\n",
       "\n",
       "    this.context = undefined;\n",
       "    this.message = undefined;\n",
       "    this.canvas = undefined;\n",
       "    this.rubberband_canvas = undefined;\n",
       "    this.rubberband_context = undefined;\n",
       "    this.format_dropdown = undefined;\n",
       "\n",
       "    this.image_mode = 'full';\n",
       "\n",
       "    this.root = document.createElement('div');\n",
       "    this.root.setAttribute('style', 'display: inline-block');\n",
       "    this._root_extra_style(this.root);\n",
       "\n",
       "    parent_element.appendChild(this.root);\n",
       "\n",
       "    this._init_header(this);\n",
       "    this._init_canvas(this);\n",
       "    this._init_toolbar(this);\n",
       "\n",
       "    var fig = this;\n",
       "\n",
       "    this.waiting = false;\n",
       "\n",
       "    this.ws.onopen = function () {\n",
       "        fig.send_message('supports_binary', { value: fig.supports_binary });\n",
       "        fig.send_message('send_image_mode', {});\n",
       "        if (fig.ratio !== 1) {\n",
       "            fig.send_message('set_device_pixel_ratio', {\n",
       "                device_pixel_ratio: fig.ratio,\n",
       "            });\n",
       "        }\n",
       "        fig.send_message('refresh', {});\n",
       "    };\n",
       "\n",
       "    this.imageObj.onload = function () {\n",
       "        if (fig.image_mode === 'full') {\n",
       "            // Full images could contain transparency (where diff images\n",
       "            // almost always do), so we need to clear the canvas so that\n",
       "            // there is no ghosting.\n",
       "            fig.context.clearRect(0, 0, fig.canvas.width, fig.canvas.height);\n",
       "        }\n",
       "        fig.context.drawImage(fig.imageObj, 0, 0);\n",
       "    };\n",
       "\n",
       "    this.imageObj.onunload = function () {\n",
       "        fig.ws.close();\n",
       "    };\n",
       "\n",
       "    this.ws.onmessage = this._make_on_message_function(this);\n",
       "\n",
       "    this.ondownload = ondownload;\n",
       "};\n",
       "\n",
       "mpl.figure.prototype._init_header = function () {\n",
       "    var titlebar = document.createElement('div');\n",
       "    titlebar.classList =\n",
       "        'ui-dialog-titlebar ui-widget-header ui-corner-all ui-helper-clearfix';\n",
       "    var titletext = document.createElement('div');\n",
       "    titletext.classList = 'ui-dialog-title';\n",
       "    titletext.setAttribute(\n",
       "        'style',\n",
       "        'width: 100%; text-align: center; padding: 3px;'\n",
       "    );\n",
       "    titlebar.appendChild(titletext);\n",
       "    this.root.appendChild(titlebar);\n",
       "    this.header = titletext;\n",
       "};\n",
       "\n",
       "mpl.figure.prototype._canvas_extra_style = function (_canvas_div) {};\n",
       "\n",
       "mpl.figure.prototype._root_extra_style = function (_canvas_div) {};\n",
       "\n",
       "mpl.figure.prototype._init_canvas = function () {\n",
       "    var fig = this;\n",
       "\n",
       "    var canvas_div = (this.canvas_div = document.createElement('div'));\n",
       "    canvas_div.setAttribute(\n",
       "        'style',\n",
       "        'border: 1px solid #ddd;' +\n",
       "            'box-sizing: content-box;' +\n",
       "            'clear: both;' +\n",
       "            'min-height: 1px;' +\n",
       "            'min-width: 1px;' +\n",
       "            'outline: 0;' +\n",
       "            'overflow: hidden;' +\n",
       "            'position: relative;' +\n",
       "            'resize: both;'\n",
       "    );\n",
       "\n",
       "    function on_keyboard_event_closure(name) {\n",
       "        return function (event) {\n",
       "            return fig.key_event(event, name);\n",
       "        };\n",
       "    }\n",
       "\n",
       "    canvas_div.addEventListener(\n",
       "        'keydown',\n",
       "        on_keyboard_event_closure('key_press')\n",
       "    );\n",
       "    canvas_div.addEventListener(\n",
       "        'keyup',\n",
       "        on_keyboard_event_closure('key_release')\n",
       "    );\n",
       "\n",
       "    this._canvas_extra_style(canvas_div);\n",
       "    this.root.appendChild(canvas_div);\n",
       "\n",
       "    var canvas = (this.canvas = document.createElement('canvas'));\n",
       "    canvas.classList.add('mpl-canvas');\n",
       "    canvas.setAttribute('style', 'box-sizing: content-box;');\n",
       "\n",
       "    this.context = canvas.getContext('2d');\n",
       "\n",
       "    var backingStore =\n",
       "        this.context.backingStorePixelRatio ||\n",
       "        this.context.webkitBackingStorePixelRatio ||\n",
       "        this.context.mozBackingStorePixelRatio ||\n",
       "        this.context.msBackingStorePixelRatio ||\n",
       "        this.context.oBackingStorePixelRatio ||\n",
       "        this.context.backingStorePixelRatio ||\n",
       "        1;\n",
       "\n",
       "    this.ratio = (window.devicePixelRatio || 1) / backingStore;\n",
       "\n",
       "    var rubberband_canvas = (this.rubberband_canvas = document.createElement(\n",
       "        'canvas'\n",
       "    ));\n",
       "    rubberband_canvas.setAttribute(\n",
       "        'style',\n",
       "        'box-sizing: content-box; position: absolute; left: 0; top: 0; z-index: 1;'\n",
       "    );\n",
       "\n",
       "    // Apply a ponyfill if ResizeObserver is not implemented by browser.\n",
       "    if (this.ResizeObserver === undefined) {\n",
       "        if (window.ResizeObserver !== undefined) {\n",
       "            this.ResizeObserver = window.ResizeObserver;\n",
       "        } else {\n",
       "            var obs = _JSXTOOLS_RESIZE_OBSERVER({});\n",
       "            this.ResizeObserver = obs.ResizeObserver;\n",
       "        }\n",
       "    }\n",
       "\n",
       "    this.resizeObserverInstance = new this.ResizeObserver(function (entries) {\n",
       "        var nentries = entries.length;\n",
       "        for (var i = 0; i < nentries; i++) {\n",
       "            var entry = entries[i];\n",
       "            var width, height;\n",
       "            if (entry.contentBoxSize) {\n",
       "                if (entry.contentBoxSize instanceof Array) {\n",
       "                    // Chrome 84 implements new version of spec.\n",
       "                    width = entry.contentBoxSize[0].inlineSize;\n",
       "                    height = entry.contentBoxSize[0].blockSize;\n",
       "                } else {\n",
       "                    // Firefox implements old version of spec.\n",
       "                    width = entry.contentBoxSize.inlineSize;\n",
       "                    height = entry.contentBoxSize.blockSize;\n",
       "                }\n",
       "            } else {\n",
       "                // Chrome <84 implements even older version of spec.\n",
       "                width = entry.contentRect.width;\n",
       "                height = entry.contentRect.height;\n",
       "            }\n",
       "\n",
       "            // Keep the size of the canvas and rubber band canvas in sync with\n",
       "            // the canvas container.\n",
       "            if (entry.devicePixelContentBoxSize) {\n",
       "                // Chrome 84 implements new version of spec.\n",
       "                canvas.setAttribute(\n",
       "                    'width',\n",
       "                    entry.devicePixelContentBoxSize[0].inlineSize\n",
       "                );\n",
       "                canvas.setAttribute(\n",
       "                    'height',\n",
       "                    entry.devicePixelContentBoxSize[0].blockSize\n",
       "                );\n",
       "            } else {\n",
       "                canvas.setAttribute('width', width * fig.ratio);\n",
       "                canvas.setAttribute('height', height * fig.ratio);\n",
       "            }\n",
       "            canvas.setAttribute(\n",
       "                'style',\n",
       "                'width: ' + width + 'px; height: ' + height + 'px;'\n",
       "            );\n",
       "\n",
       "            rubberband_canvas.setAttribute('width', width);\n",
       "            rubberband_canvas.setAttribute('height', height);\n",
       "\n",
       "            // And update the size in Python. We ignore the initial 0/0 size\n",
       "            // that occurs as the element is placed into the DOM, which should\n",
       "            // otherwise not happen due to the minimum size styling.\n",
       "            if (fig.ws.readyState == 1 && width != 0 && height != 0) {\n",
       "                fig.request_resize(width, height);\n",
       "            }\n",
       "        }\n",
       "    });\n",
       "    this.resizeObserverInstance.observe(canvas_div);\n",
       "\n",
       "    function on_mouse_event_closure(name) {\n",
       "        return function (event) {\n",
       "            return fig.mouse_event(event, name);\n",
       "        };\n",
       "    }\n",
       "\n",
       "    rubberband_canvas.addEventListener(\n",
       "        'mousedown',\n",
       "        on_mouse_event_closure('button_press')\n",
       "    );\n",
       "    rubberband_canvas.addEventListener(\n",
       "        'mouseup',\n",
       "        on_mouse_event_closure('button_release')\n",
       "    );\n",
       "    rubberband_canvas.addEventListener(\n",
       "        'dblclick',\n",
       "        on_mouse_event_closure('dblclick')\n",
       "    );\n",
       "    // Throttle sequential mouse events to 1 every 20ms.\n",
       "    rubberband_canvas.addEventListener(\n",
       "        'mousemove',\n",
       "        on_mouse_event_closure('motion_notify')\n",
       "    );\n",
       "\n",
       "    rubberband_canvas.addEventListener(\n",
       "        'mouseenter',\n",
       "        on_mouse_event_closure('figure_enter')\n",
       "    );\n",
       "    rubberband_canvas.addEventListener(\n",
       "        'mouseleave',\n",
       "        on_mouse_event_closure('figure_leave')\n",
       "    );\n",
       "\n",
       "    canvas_div.addEventListener('wheel', function (event) {\n",
       "        if (event.deltaY < 0) {\n",
       "            event.step = 1;\n",
       "        } else {\n",
       "            event.step = -1;\n",
       "        }\n",
       "        on_mouse_event_closure('scroll')(event);\n",
       "    });\n",
       "\n",
       "    canvas_div.appendChild(canvas);\n",
       "    canvas_div.appendChild(rubberband_canvas);\n",
       "\n",
       "    this.rubberband_context = rubberband_canvas.getContext('2d');\n",
       "    this.rubberband_context.strokeStyle = '#000000';\n",
       "\n",
       "    this._resize_canvas = function (width, height, forward) {\n",
       "        if (forward) {\n",
       "            canvas_div.style.width = width + 'px';\n",
       "            canvas_div.style.height = height + 'px';\n",
       "        }\n",
       "    };\n",
       "\n",
       "    // Disable right mouse context menu.\n",
       "    this.rubberband_canvas.addEventListener('contextmenu', function (_e) {\n",
       "        event.preventDefault();\n",
       "        return false;\n",
       "    });\n",
       "\n",
       "    function set_focus() {\n",
       "        canvas.focus();\n",
       "        canvas_div.focus();\n",
       "    }\n",
       "\n",
       "    window.setTimeout(set_focus, 100);\n",
       "};\n",
       "\n",
       "mpl.figure.prototype._init_toolbar = function () {\n",
       "    var fig = this;\n",
       "\n",
       "    var toolbar = document.createElement('div');\n",
       "    toolbar.classList = 'mpl-toolbar';\n",
       "    this.root.appendChild(toolbar);\n",
       "\n",
       "    function on_click_closure(name) {\n",
       "        return function (_event) {\n",
       "            return fig.toolbar_button_onclick(name);\n",
       "        };\n",
       "    }\n",
       "\n",
       "    function on_mouseover_closure(tooltip) {\n",
       "        return function (event) {\n",
       "            if (!event.currentTarget.disabled) {\n",
       "                return fig.toolbar_button_onmouseover(tooltip);\n",
       "            }\n",
       "        };\n",
       "    }\n",
       "\n",
       "    fig.buttons = {};\n",
       "    var buttonGroup = document.createElement('div');\n",
       "    buttonGroup.classList = 'mpl-button-group';\n",
       "    for (var toolbar_ind in mpl.toolbar_items) {\n",
       "        var name = mpl.toolbar_items[toolbar_ind][0];\n",
       "        var tooltip = mpl.toolbar_items[toolbar_ind][1];\n",
       "        var image = mpl.toolbar_items[toolbar_ind][2];\n",
       "        var method_name = mpl.toolbar_items[toolbar_ind][3];\n",
       "\n",
       "        if (!name) {\n",
       "            /* Instead of a spacer, we start a new button group. */\n",
       "            if (buttonGroup.hasChildNodes()) {\n",
       "                toolbar.appendChild(buttonGroup);\n",
       "            }\n",
       "            buttonGroup = document.createElement('div');\n",
       "            buttonGroup.classList = 'mpl-button-group';\n",
       "            continue;\n",
       "        }\n",
       "\n",
       "        var button = (fig.buttons[name] = document.createElement('button'));\n",
       "        button.classList = 'mpl-widget';\n",
       "        button.setAttribute('role', 'button');\n",
       "        button.setAttribute('aria-disabled', 'false');\n",
       "        button.addEventListener('click', on_click_closure(method_name));\n",
       "        button.addEventListener('mouseover', on_mouseover_closure(tooltip));\n",
       "\n",
       "        var icon_img = document.createElement('img');\n",
       "        icon_img.src = '_images/' + image + '.png';\n",
       "        icon_img.srcset = '_images/' + image + '_large.png 2x';\n",
       "        icon_img.alt = tooltip;\n",
       "        button.appendChild(icon_img);\n",
       "\n",
       "        buttonGroup.appendChild(button);\n",
       "    }\n",
       "\n",
       "    if (buttonGroup.hasChildNodes()) {\n",
       "        toolbar.appendChild(buttonGroup);\n",
       "    }\n",
       "\n",
       "    var fmt_picker = document.createElement('select');\n",
       "    fmt_picker.classList = 'mpl-widget';\n",
       "    toolbar.appendChild(fmt_picker);\n",
       "    this.format_dropdown = fmt_picker;\n",
       "\n",
       "    for (var ind in mpl.extensions) {\n",
       "        var fmt = mpl.extensions[ind];\n",
       "        var option = document.createElement('option');\n",
       "        option.selected = fmt === mpl.default_extension;\n",
       "        option.innerHTML = fmt;\n",
       "        fmt_picker.appendChild(option);\n",
       "    }\n",
       "\n",
       "    var status_bar = document.createElement('span');\n",
       "    status_bar.classList = 'mpl-message';\n",
       "    toolbar.appendChild(status_bar);\n",
       "    this.message = status_bar;\n",
       "};\n",
       "\n",
       "mpl.figure.prototype.request_resize = function (x_pixels, y_pixels) {\n",
       "    // Request matplotlib to resize the figure. Matplotlib will then trigger a resize in the client,\n",
       "    // which will in turn request a refresh of the image.\n",
       "    this.send_message('resize', { width: x_pixels, height: y_pixels });\n",
       "};\n",
       "\n",
       "mpl.figure.prototype.send_message = function (type, properties) {\n",
       "    properties['type'] = type;\n",
       "    properties['figure_id'] = this.id;\n",
       "    this.ws.send(JSON.stringify(properties));\n",
       "};\n",
       "\n",
       "mpl.figure.prototype.send_draw_message = function () {\n",
       "    if (!this.waiting) {\n",
       "        this.waiting = true;\n",
       "        this.ws.send(JSON.stringify({ type: 'draw', figure_id: this.id }));\n",
       "    }\n",
       "};\n",
       "\n",
       "mpl.figure.prototype.handle_save = function (fig, _msg) {\n",
       "    var format_dropdown = fig.format_dropdown;\n",
       "    var format = format_dropdown.options[format_dropdown.selectedIndex].value;\n",
       "    fig.ondownload(fig, format);\n",
       "};\n",
       "\n",
       "mpl.figure.prototype.handle_resize = function (fig, msg) {\n",
       "    var size = msg['size'];\n",
       "    if (size[0] !== fig.canvas.width || size[1] !== fig.canvas.height) {\n",
       "        fig._resize_canvas(size[0], size[1], msg['forward']);\n",
       "        fig.send_message('refresh', {});\n",
       "    }\n",
       "};\n",
       "\n",
       "mpl.figure.prototype.handle_rubberband = function (fig, msg) {\n",
       "    var x0 = msg['x0'] / fig.ratio;\n",
       "    var y0 = (fig.canvas.height - msg['y0']) / fig.ratio;\n",
       "    var x1 = msg['x1'] / fig.ratio;\n",
       "    var y1 = (fig.canvas.height - msg['y1']) / fig.ratio;\n",
       "    x0 = Math.floor(x0) + 0.5;\n",
       "    y0 = Math.floor(y0) + 0.5;\n",
       "    x1 = Math.floor(x1) + 0.5;\n",
       "    y1 = Math.floor(y1) + 0.5;\n",
       "    var min_x = Math.min(x0, x1);\n",
       "    var min_y = Math.min(y0, y1);\n",
       "    var width = Math.abs(x1 - x0);\n",
       "    var height = Math.abs(y1 - y0);\n",
       "\n",
       "    fig.rubberband_context.clearRect(\n",
       "        0,\n",
       "        0,\n",
       "        fig.canvas.width / fig.ratio,\n",
       "        fig.canvas.height / fig.ratio\n",
       "    );\n",
       "\n",
       "    fig.rubberband_context.strokeRect(min_x, min_y, width, height);\n",
       "};\n",
       "\n",
       "mpl.figure.prototype.handle_figure_label = function (fig, msg) {\n",
       "    // Updates the figure title.\n",
       "    fig.header.textContent = msg['label'];\n",
       "};\n",
       "\n",
       "mpl.figure.prototype.handle_cursor = function (fig, msg) {\n",
       "    fig.rubberband_canvas.style.cursor = msg['cursor'];\n",
       "};\n",
       "\n",
       "mpl.figure.prototype.handle_message = function (fig, msg) {\n",
       "    fig.message.textContent = msg['message'];\n",
       "};\n",
       "\n",
       "mpl.figure.prototype.handle_draw = function (fig, _msg) {\n",
       "    // Request the server to send over a new figure.\n",
       "    fig.send_draw_message();\n",
       "};\n",
       "\n",
       "mpl.figure.prototype.handle_image_mode = function (fig, msg) {\n",
       "    fig.image_mode = msg['mode'];\n",
       "};\n",
       "\n",
       "mpl.figure.prototype.handle_history_buttons = function (fig, msg) {\n",
       "    for (var key in msg) {\n",
       "        if (!(key in fig.buttons)) {\n",
       "            continue;\n",
       "        }\n",
       "        fig.buttons[key].disabled = !msg[key];\n",
       "        fig.buttons[key].setAttribute('aria-disabled', !msg[key]);\n",
       "    }\n",
       "};\n",
       "\n",
       "mpl.figure.prototype.handle_navigate_mode = function (fig, msg) {\n",
       "    if (msg['mode'] === 'PAN') {\n",
       "        fig.buttons['Pan'].classList.add('active');\n",
       "        fig.buttons['Zoom'].classList.remove('active');\n",
       "    } else if (msg['mode'] === 'ZOOM') {\n",
       "        fig.buttons['Pan'].classList.remove('active');\n",
       "        fig.buttons['Zoom'].classList.add('active');\n",
       "    } else {\n",
       "        fig.buttons['Pan'].classList.remove('active');\n",
       "        fig.buttons['Zoom'].classList.remove('active');\n",
       "    }\n",
       "};\n",
       "\n",
       "mpl.figure.prototype.updated_canvas_event = function () {\n",
       "    // Called whenever the canvas gets updated.\n",
       "    this.send_message('ack', {});\n",
       "};\n",
       "\n",
       "// A function to construct a web socket function for onmessage handling.\n",
       "// Called in the figure constructor.\n",
       "mpl.figure.prototype._make_on_message_function = function (fig) {\n",
       "    return function socket_on_message(evt) {\n",
       "        if (evt.data instanceof Blob) {\n",
       "            var img = evt.data;\n",
       "            if (img.type !== 'image/png') {\n",
       "                /* FIXME: We get \"Resource interpreted as Image but\n",
       "                 * transferred with MIME type text/plain:\" errors on\n",
       "                 * Chrome.  But how to set the MIME type?  It doesn't seem\n",
       "                 * to be part of the websocket stream */\n",
       "                img.type = 'image/png';\n",
       "            }\n",
       "\n",
       "            /* Free the memory for the previous frames */\n",
       "            if (fig.imageObj.src) {\n",
       "                (window.URL || window.webkitURL).revokeObjectURL(\n",
       "                    fig.imageObj.src\n",
       "                );\n",
       "            }\n",
       "\n",
       "            fig.imageObj.src = (window.URL || window.webkitURL).createObjectURL(\n",
       "                img\n",
       "            );\n",
       "            fig.updated_canvas_event();\n",
       "            fig.waiting = false;\n",
       "            return;\n",
       "        } else if (\n",
       "            typeof evt.data === 'string' &&\n",
       "            evt.data.slice(0, 21) === 'data:image/png;base64'\n",
       "        ) {\n",
       "            fig.imageObj.src = evt.data;\n",
       "            fig.updated_canvas_event();\n",
       "            fig.waiting = false;\n",
       "            return;\n",
       "        }\n",
       "\n",
       "        var msg = JSON.parse(evt.data);\n",
       "        var msg_type = msg['type'];\n",
       "\n",
       "        // Call the  \"handle_{type}\" callback, which takes\n",
       "        // the figure and JSON message as its only arguments.\n",
       "        try {\n",
       "            var callback = fig['handle_' + msg_type];\n",
       "        } catch (e) {\n",
       "            console.log(\n",
       "                \"No handler for the '\" + msg_type + \"' message type: \",\n",
       "                msg\n",
       "            );\n",
       "            return;\n",
       "        }\n",
       "\n",
       "        if (callback) {\n",
       "            try {\n",
       "                // console.log(\"Handling '\" + msg_type + \"' message: \", msg);\n",
       "                callback(fig, msg);\n",
       "            } catch (e) {\n",
       "                console.log(\n",
       "                    \"Exception inside the 'handler_\" + msg_type + \"' callback:\",\n",
       "                    e,\n",
       "                    e.stack,\n",
       "                    msg\n",
       "                );\n",
       "            }\n",
       "        }\n",
       "    };\n",
       "};\n",
       "\n",
       "// from https://stackoverflow.com/questions/1114465/getting-mouse-location-in-canvas\n",
       "mpl.findpos = function (e) {\n",
       "    //this section is from http://www.quirksmode.org/js/events_properties.html\n",
       "    var targ;\n",
       "    if (!e) {\n",
       "        e = window.event;\n",
       "    }\n",
       "    if (e.target) {\n",
       "        targ = e.target;\n",
       "    } else if (e.srcElement) {\n",
       "        targ = e.srcElement;\n",
       "    }\n",
       "    if (targ.nodeType === 3) {\n",
       "        // defeat Safari bug\n",
       "        targ = targ.parentNode;\n",
       "    }\n",
       "\n",
       "    // pageX,Y are the mouse positions relative to the document\n",
       "    var boundingRect = targ.getBoundingClientRect();\n",
       "    var x = e.pageX - (boundingRect.left + document.body.scrollLeft);\n",
       "    var y = e.pageY - (boundingRect.top + document.body.scrollTop);\n",
       "\n",
       "    return { x: x, y: y };\n",
       "};\n",
       "\n",
       "/*\n",
       " * return a copy of an object with only non-object keys\n",
       " * we need this to avoid circular references\n",
       " * https://stackoverflow.com/a/24161582/3208463\n",
       " */\n",
       "function simpleKeys(original) {\n",
       "    return Object.keys(original).reduce(function (obj, key) {\n",
       "        if (typeof original[key] !== 'object') {\n",
       "            obj[key] = original[key];\n",
       "        }\n",
       "        return obj;\n",
       "    }, {});\n",
       "}\n",
       "\n",
       "mpl.figure.prototype.mouse_event = function (event, name) {\n",
       "    var canvas_pos = mpl.findpos(event);\n",
       "\n",
       "    if (name === 'button_press') {\n",
       "        this.canvas.focus();\n",
       "        this.canvas_div.focus();\n",
       "    }\n",
       "\n",
       "    var x = canvas_pos.x * this.ratio;\n",
       "    var y = canvas_pos.y * this.ratio;\n",
       "\n",
       "    this.send_message(name, {\n",
       "        x: x,\n",
       "        y: y,\n",
       "        button: event.button,\n",
       "        step: event.step,\n",
       "        guiEvent: simpleKeys(event),\n",
       "    });\n",
       "\n",
       "    /* This prevents the web browser from automatically changing to\n",
       "     * the text insertion cursor when the button is pressed.  We want\n",
       "     * to control all of the cursor setting manually through the\n",
       "     * 'cursor' event from matplotlib */\n",
       "    event.preventDefault();\n",
       "    return false;\n",
       "};\n",
       "\n",
       "mpl.figure.prototype._key_event_extra = function (_event, _name) {\n",
       "    // Handle any extra behaviour associated with a key event\n",
       "};\n",
       "\n",
       "mpl.figure.prototype.key_event = function (event, name) {\n",
       "    // Prevent repeat events\n",
       "    if (name === 'key_press') {\n",
       "        if (event.key === this._key) {\n",
       "            return;\n",
       "        } else {\n",
       "            this._key = event.key;\n",
       "        }\n",
       "    }\n",
       "    if (name === 'key_release') {\n",
       "        this._key = null;\n",
       "    }\n",
       "\n",
       "    var value = '';\n",
       "    if (event.ctrlKey && event.key !== 'Control') {\n",
       "        value += 'ctrl+';\n",
       "    }\n",
       "    else if (event.altKey && event.key !== 'Alt') {\n",
       "        value += 'alt+';\n",
       "    }\n",
       "    else if (event.shiftKey && event.key !== 'Shift') {\n",
       "        value += 'shift+';\n",
       "    }\n",
       "\n",
       "    value += 'k' + event.key;\n",
       "\n",
       "    this._key_event_extra(event, name);\n",
       "\n",
       "    this.send_message(name, { key: value, guiEvent: simpleKeys(event) });\n",
       "    return false;\n",
       "};\n",
       "\n",
       "mpl.figure.prototype.toolbar_button_onclick = function (name) {\n",
       "    if (name === 'download') {\n",
       "        this.handle_save(this, null);\n",
       "    } else {\n",
       "        this.send_message('toolbar_button', { name: name });\n",
       "    }\n",
       "};\n",
       "\n",
       "mpl.figure.prototype.toolbar_button_onmouseover = function (tooltip) {\n",
       "    this.message.textContent = tooltip;\n",
       "};\n",
       "\n",
       "///////////////// REMAINING CONTENT GENERATED BY embed_js.py /////////////////\n",
       "// prettier-ignore\n",
       "var _JSXTOOLS_RESIZE_OBSERVER=function(A){var t,i=new WeakMap,n=new WeakMap,a=new WeakMap,r=new WeakMap,o=new Set;function s(e){if(!(this instanceof s))throw new TypeError(\"Constructor requires 'new' operator\");i.set(this,e)}function h(){throw new TypeError(\"Function is not a constructor\")}function c(e,t,i,n){e=0 in arguments?Number(arguments[0]):0,t=1 in arguments?Number(arguments[1]):0,i=2 in arguments?Number(arguments[2]):0,n=3 in arguments?Number(arguments[3]):0,this.right=(this.x=this.left=e)+(this.width=i),this.bottom=(this.y=this.top=t)+(this.height=n),Object.freeze(this)}function d(){t=requestAnimationFrame(d);var s=new WeakMap,p=new Set;o.forEach((function(t){r.get(t).forEach((function(i){var r=t instanceof window.SVGElement,o=a.get(t),d=r?0:parseFloat(o.paddingTop),f=r?0:parseFloat(o.paddingRight),l=r?0:parseFloat(o.paddingBottom),u=r?0:parseFloat(o.paddingLeft),g=r?0:parseFloat(o.borderTopWidth),m=r?0:parseFloat(o.borderRightWidth),w=r?0:parseFloat(o.borderBottomWidth),b=u+f,F=d+l,v=(r?0:parseFloat(o.borderLeftWidth))+m,W=g+w,y=r?0:t.offsetHeight-W-t.clientHeight,E=r?0:t.offsetWidth-v-t.clientWidth,R=b+v,z=F+W,M=r?t.width:parseFloat(o.width)-R-E,O=r?t.height:parseFloat(o.height)-z-y;if(n.has(t)){var k=n.get(t);if(k[0]===M&&k[1]===O)return}n.set(t,[M,O]);var S=Object.create(h.prototype);S.target=t,S.contentRect=new c(u,d,M,O),s.has(i)||(s.set(i,[]),p.add(i)),s.get(i).push(S)}))})),p.forEach((function(e){i.get(e).call(e,s.get(e),e)}))}return s.prototype.observe=function(i){if(i instanceof window.Element){r.has(i)||(r.set(i,new Set),o.add(i),a.set(i,window.getComputedStyle(i)));var n=r.get(i);n.has(this)||n.add(this),cancelAnimationFrame(t),t=requestAnimationFrame(d)}},s.prototype.unobserve=function(i){if(i instanceof window.Element&&r.has(i)){var n=r.get(i);n.has(this)&&(n.delete(this),n.size||(r.delete(i),o.delete(i))),n.size||r.delete(i),o.size||cancelAnimationFrame(t)}},A.DOMRectReadOnly=c,A.ResizeObserver=s,A.ResizeObserverEntry=h,A}; // eslint-disable-line\n",
       "mpl.toolbar_items = [[\"Home\", \"Reset original view\", \"fa fa-home icon-home\", \"home\"], [\"Back\", \"Back to previous view\", \"fa fa-arrow-left icon-arrow-left\", \"back\"], [\"Forward\", \"Forward to next view\", \"fa fa-arrow-right icon-arrow-right\", \"forward\"], [\"\", \"\", \"\", \"\"], [\"Pan\", \"Left button pans, Right button zooms\\nx/y fixes axis, CTRL fixes aspect\", \"fa fa-arrows icon-move\", \"pan\"], [\"Zoom\", \"Zoom to rectangle\\nx/y fixes axis\", \"fa fa-square-o icon-check-empty\", \"zoom\"], [\"\", \"\", \"\", \"\"], [\"Download\", \"Download plot\", \"fa fa-floppy-o icon-save\", \"download\"]];\n",
       "\n",
       "mpl.extensions = [\"eps\", \"jpeg\", \"pgf\", \"pdf\", \"png\", \"ps\", \"raw\", \"svg\", \"tif\"];\n",
       "\n",
       "mpl.default_extension = \"png\";/* global mpl */\n",
       "\n",
       "var comm_websocket_adapter = function (comm) {\n",
       "    // Create a \"websocket\"-like object which calls the given IPython comm\n",
       "    // object with the appropriate methods. Currently this is a non binary\n",
       "    // socket, so there is still some room for performance tuning.\n",
       "    var ws = {};\n",
       "\n",
       "    ws.binaryType = comm.kernel.ws.binaryType;\n",
       "    ws.readyState = comm.kernel.ws.readyState;\n",
       "    function updateReadyState(_event) {\n",
       "        if (comm.kernel.ws) {\n",
       "            ws.readyState = comm.kernel.ws.readyState;\n",
       "        } else {\n",
       "            ws.readyState = 3; // Closed state.\n",
       "        }\n",
       "    }\n",
       "    comm.kernel.ws.addEventListener('open', updateReadyState);\n",
       "    comm.kernel.ws.addEventListener('close', updateReadyState);\n",
       "    comm.kernel.ws.addEventListener('error', updateReadyState);\n",
       "\n",
       "    ws.close = function () {\n",
       "        comm.close();\n",
       "    };\n",
       "    ws.send = function (m) {\n",
       "        //console.log('sending', m);\n",
       "        comm.send(m);\n",
       "    };\n",
       "    // Register the callback with on_msg.\n",
       "    comm.on_msg(function (msg) {\n",
       "        //console.log('receiving', msg['content']['data'], msg);\n",
       "        var data = msg['content']['data'];\n",
       "        if (data['blob'] !== undefined) {\n",
       "            data = {\n",
       "                data: new Blob(msg['buffers'], { type: data['blob'] }),\n",
       "            };\n",
       "        }\n",
       "        // Pass the mpl event to the overridden (by mpl) onmessage function.\n",
       "        ws.onmessage(data);\n",
       "    });\n",
       "    return ws;\n",
       "};\n",
       "\n",
       "mpl.mpl_figure_comm = function (comm, msg) {\n",
       "    // This is the function which gets called when the mpl process\n",
       "    // starts-up an IPython Comm through the \"matplotlib\" channel.\n",
       "\n",
       "    var id = msg.content.data.id;\n",
       "    // Get hold of the div created by the display call when the Comm\n",
       "    // socket was opened in Python.\n",
       "    var element = document.getElementById(id);\n",
       "    var ws_proxy = comm_websocket_adapter(comm);\n",
       "\n",
       "    function ondownload(figure, _format) {\n",
       "        window.open(figure.canvas.toDataURL());\n",
       "    }\n",
       "\n",
       "    var fig = new mpl.figure(id, ws_proxy, ondownload, element);\n",
       "\n",
       "    // Call onopen now - mpl needs it, as it is assuming we've passed it a real\n",
       "    // web socket which is closed, not our websocket->open comm proxy.\n",
       "    ws_proxy.onopen();\n",
       "\n",
       "    fig.parent_element = element;\n",
       "    fig.cell_info = mpl.find_output_cell(\"<div id='\" + id + \"'></div>\");\n",
       "    if (!fig.cell_info) {\n",
       "        console.error('Failed to find cell for figure', id, fig);\n",
       "        return;\n",
       "    }\n",
       "    fig.cell_info[0].output_area.element.on(\n",
       "        'cleared',\n",
       "        { fig: fig },\n",
       "        fig._remove_fig_handler\n",
       "    );\n",
       "};\n",
       "\n",
       "mpl.figure.prototype.handle_close = function (fig, msg) {\n",
       "    var width = fig.canvas.width / fig.ratio;\n",
       "    fig.cell_info[0].output_area.element.off(\n",
       "        'cleared',\n",
       "        fig._remove_fig_handler\n",
       "    );\n",
       "    fig.resizeObserverInstance.unobserve(fig.canvas_div);\n",
       "\n",
       "    // Update the output cell to use the data from the current canvas.\n",
       "    fig.push_to_output();\n",
       "    var dataURL = fig.canvas.toDataURL();\n",
       "    // Re-enable the keyboard manager in IPython - without this line, in FF,\n",
       "    // the notebook keyboard shortcuts fail.\n",
       "    IPython.keyboard_manager.enable();\n",
       "    fig.parent_element.innerHTML =\n",
       "        '<img src=\"' + dataURL + '\" width=\"' + width + '\">';\n",
       "    fig.close_ws(fig, msg);\n",
       "};\n",
       "\n",
       "mpl.figure.prototype.close_ws = function (fig, msg) {\n",
       "    fig.send_message('closing', msg);\n",
       "    // fig.ws.close()\n",
       "};\n",
       "\n",
       "mpl.figure.prototype.push_to_output = function (_remove_interactive) {\n",
       "    // Turn the data on the canvas into data in the output cell.\n",
       "    var width = this.canvas.width / this.ratio;\n",
       "    var dataURL = this.canvas.toDataURL();\n",
       "    this.cell_info[1]['text/html'] =\n",
       "        '<img src=\"' + dataURL + '\" width=\"' + width + '\">';\n",
       "};\n",
       "\n",
       "mpl.figure.prototype.updated_canvas_event = function () {\n",
       "    // Tell IPython that the notebook contents must change.\n",
       "    IPython.notebook.set_dirty(true);\n",
       "    this.send_message('ack', {});\n",
       "    var fig = this;\n",
       "    // Wait a second, then push the new image to the DOM so\n",
       "    // that it is saved nicely (might be nice to debounce this).\n",
       "    setTimeout(function () {\n",
       "        fig.push_to_output();\n",
       "    }, 1000);\n",
       "};\n",
       "\n",
       "mpl.figure.prototype._init_toolbar = function () {\n",
       "    var fig = this;\n",
       "\n",
       "    var toolbar = document.createElement('div');\n",
       "    toolbar.classList = 'btn-toolbar';\n",
       "    this.root.appendChild(toolbar);\n",
       "\n",
       "    function on_click_closure(name) {\n",
       "        return function (_event) {\n",
       "            return fig.toolbar_button_onclick(name);\n",
       "        };\n",
       "    }\n",
       "\n",
       "    function on_mouseover_closure(tooltip) {\n",
       "        return function (event) {\n",
       "            if (!event.currentTarget.disabled) {\n",
       "                return fig.toolbar_button_onmouseover(tooltip);\n",
       "            }\n",
       "        };\n",
       "    }\n",
       "\n",
       "    fig.buttons = {};\n",
       "    var buttonGroup = document.createElement('div');\n",
       "    buttonGroup.classList = 'btn-group';\n",
       "    var button;\n",
       "    for (var toolbar_ind in mpl.toolbar_items) {\n",
       "        var name = mpl.toolbar_items[toolbar_ind][0];\n",
       "        var tooltip = mpl.toolbar_items[toolbar_ind][1];\n",
       "        var image = mpl.toolbar_items[toolbar_ind][2];\n",
       "        var method_name = mpl.toolbar_items[toolbar_ind][3];\n",
       "\n",
       "        if (!name) {\n",
       "            /* Instead of a spacer, we start a new button group. */\n",
       "            if (buttonGroup.hasChildNodes()) {\n",
       "                toolbar.appendChild(buttonGroup);\n",
       "            }\n",
       "            buttonGroup = document.createElement('div');\n",
       "            buttonGroup.classList = 'btn-group';\n",
       "            continue;\n",
       "        }\n",
       "\n",
       "        button = fig.buttons[name] = document.createElement('button');\n",
       "        button.classList = 'btn btn-default';\n",
       "        button.href = '#';\n",
       "        button.title = name;\n",
       "        button.innerHTML = '<i class=\"fa ' + image + ' fa-lg\"></i>';\n",
       "        button.addEventListener('click', on_click_closure(method_name));\n",
       "        button.addEventListener('mouseover', on_mouseover_closure(tooltip));\n",
       "        buttonGroup.appendChild(button);\n",
       "    }\n",
       "\n",
       "    if (buttonGroup.hasChildNodes()) {\n",
       "        toolbar.appendChild(buttonGroup);\n",
       "    }\n",
       "\n",
       "    // Add the status bar.\n",
       "    var status_bar = document.createElement('span');\n",
       "    status_bar.classList = 'mpl-message pull-right';\n",
       "    toolbar.appendChild(status_bar);\n",
       "    this.message = status_bar;\n",
       "\n",
       "    // Add the close button to the window.\n",
       "    var buttongrp = document.createElement('div');\n",
       "    buttongrp.classList = 'btn-group inline pull-right';\n",
       "    button = document.createElement('button');\n",
       "    button.classList = 'btn btn-mini btn-primary';\n",
       "    button.href = '#';\n",
       "    button.title = 'Stop Interaction';\n",
       "    button.innerHTML = '<i class=\"fa fa-power-off icon-remove icon-large\"></i>';\n",
       "    button.addEventListener('click', function (_evt) {\n",
       "        fig.handle_close(fig, {});\n",
       "    });\n",
       "    button.addEventListener(\n",
       "        'mouseover',\n",
       "        on_mouseover_closure('Stop Interaction')\n",
       "    );\n",
       "    buttongrp.appendChild(button);\n",
       "    var titlebar = this.root.querySelector('.ui-dialog-titlebar');\n",
       "    titlebar.insertBefore(buttongrp, titlebar.firstChild);\n",
       "};\n",
       "\n",
       "mpl.figure.prototype._remove_fig_handler = function (event) {\n",
       "    var fig = event.data.fig;\n",
       "    if (event.target !== this) {\n",
       "        // Ignore bubbled events from children.\n",
       "        return;\n",
       "    }\n",
       "    fig.close_ws(fig, {});\n",
       "};\n",
       "\n",
       "mpl.figure.prototype._root_extra_style = function (el) {\n",
       "    el.style.boxSizing = 'content-box'; // override notebook setting of border-box.\n",
       "};\n",
       "\n",
       "mpl.figure.prototype._canvas_extra_style = function (el) {\n",
       "    // this is important to make the div 'focusable\n",
       "    el.setAttribute('tabindex', 0);\n",
       "    // reach out to IPython and tell the keyboard manager to turn it's self\n",
       "    // off when our div gets focus\n",
       "\n",
       "    // location in version 3\n",
       "    if (IPython.notebook.keyboard_manager) {\n",
       "        IPython.notebook.keyboard_manager.register_events(el);\n",
       "    } else {\n",
       "        // location in version 2\n",
       "        IPython.keyboard_manager.register_events(el);\n",
       "    }\n",
       "};\n",
       "\n",
       "mpl.figure.prototype._key_event_extra = function (event, _name) {\n",
       "    // Check for shift+enter\n",
       "    if (event.shiftKey && event.which === 13) {\n",
       "        this.canvas_div.blur();\n",
       "        // select the cell after this one\n",
       "        var index = IPython.notebook.find_cell_index(this.cell_info[0]);\n",
       "        IPython.notebook.select(index + 1);\n",
       "    }\n",
       "};\n",
       "\n",
       "mpl.figure.prototype.handle_save = function (fig, _msg) {\n",
       "    fig.ondownload(fig, null);\n",
       "};\n",
       "\n",
       "mpl.find_output_cell = function (html_output) {\n",
       "    // Return the cell and output element which can be found *uniquely* in the notebook.\n",
       "    // Note - this is a bit hacky, but it is done because the \"notebook_saving.Notebook\"\n",
       "    // IPython event is triggered only after the cells have been serialised, which for\n",
       "    // our purposes (turning an active figure into a static one), is too late.\n",
       "    var cells = IPython.notebook.get_cells();\n",
       "    var ncells = cells.length;\n",
       "    for (var i = 0; i < ncells; i++) {\n",
       "        var cell = cells[i];\n",
       "        if (cell.cell_type === 'code') {\n",
       "            for (var j = 0; j < cell.output_area.outputs.length; j++) {\n",
       "                var data = cell.output_area.outputs[j];\n",
       "                if (data.data) {\n",
       "                    // IPython >= 3 moved mimebundle to data attribute of output\n",
       "                    data = data.data;\n",
       "                }\n",
       "                if (data['text/html'] === html_output) {\n",
       "                    return [cell, data, j];\n",
       "                }\n",
       "            }\n",
       "        }\n",
       "    }\n",
       "};\n",
       "\n",
       "// Register the function which deals with the matplotlib target/channel.\n",
       "// The kernel may be null if the page has been refreshed.\n",
       "if (IPython.notebook.kernel !== null) {\n",
       "    IPython.notebook.kernel.comm_manager.register_target(\n",
       "        'matplotlib',\n",
       "        mpl.mpl_figure_comm\n",
       "    );\n",
       "}\n"
      ],
      "text/plain": [
       "<IPython.core.display.Javascript object>"
      ]
     },
     "metadata": {},
     "output_type": "display_data"
    },
    {
     "data": {
      "text/html": [
       "<img src=\"data:image/png;base64,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\" width=\"826\">"
      ],
      "text/plain": [
       "<IPython.core.display.HTML object>"
      ]
     },
     "metadata": {},
     "output_type": "display_data"
    },
    {
     "name": "stdout",
     "output_type": "stream",
     "text": [
      "Equation: y = 0.72 + -0.01x1 + 0.01x2\n"
     ]
    }
   ],
   "source": [
    "%matplotlib notebook\n",
    "from mpl_toolkits.mplot3d import Axes3D\n",
    "import matplotlib.pyplot as plt\n",
    "fig = plt.figure()\n",
    "ax = fig.add_subplot(111, projection='3d')\n",
    "ax.scatter(X_test['1st_principal'], X_test['2nd_principal'], y_pred_reg_pca , marker='o', color='blue')\n",
    "ax.set_xlabel(\"1st_principal\")\n",
    "ax.set_ylabel(\"2nd_principal\")\n",
    "ax.set_zlabel(\"y_pred\")\n",
    "\n",
    "\n",
    "coefs = reg_pca.coef_\n",
    "intercept = reg_pca.intercept_\n",
    "xs = np.tile(np.arange(100), (100,1))\n",
    "ys = np.tile(np.arange(100), (100,1)).T\n",
    "zs = xs*coefs[0]+ys*coefs[1]+intercept\n",
    "print(\"Equation: y = {:.2f} + {:.2f}x1 + {:.2f}x2\".format(intercept, coefs[0], coefs[1]))\n",
    "\n",
    "ax.plot_surface(xs,ys,zs, alpha=0.5)\n",
    "plt.show()"
   ]
  },
  {
   "cell_type": "markdown",
   "id": "39725360",
   "metadata": {},
   "source": [
    "### 7.3.4 Creating CSV files of predictions chance of admission for the test set"
   ]
  },
  {
   "cell_type": "code",
   "execution_count": 63,
   "id": "4fd8e09a",
   "metadata": {},
   "outputs": [
    {
     "data": {
      "text/html": [
       "<div>\n",
       "<style scoped>\n",
       "    .dataframe tbody tr th:only-of-type {\n",
       "        vertical-align: middle;\n",
       "    }\n",
       "\n",
       "    .dataframe tbody tr th {\n",
       "        vertical-align: top;\n",
       "    }\n",
       "\n",
       "    .dataframe thead th {\n",
       "        text-align: right;\n",
       "    }\n",
       "</style>\n",
       "<table border=\"1\" class=\"dataframe\">\n",
       "  <thead>\n",
       "    <tr style=\"text-align: right;\">\n",
       "      <th></th>\n",
       "      <th>1st_principal</th>\n",
       "      <th>2nd_principal</th>\n",
       "    </tr>\n",
       "  </thead>\n",
       "  <tbody>\n",
       "    <tr>\n",
       "      <th>70</th>\n",
       "      <td>-18.492083</td>\n",
       "      <td>3.155558</td>\n",
       "    </tr>\n",
       "    <tr>\n",
       "      <th>357</th>\n",
       "      <td>15.736004</td>\n",
       "      <td>3.769636</td>\n",
       "    </tr>\n",
       "    <tr>\n",
       "      <th>52</th>\n",
       "      <td>-19.170950</td>\n",
       "      <td>0.220202</td>\n",
       "    </tr>\n",
       "    <tr>\n",
       "      <th>146</th>\n",
       "      <td>2.787478</td>\n",
       "      <td>-1.506108</td>\n",
       "    </tr>\n",
       "    <tr>\n",
       "      <th>107</th>\n",
       "      <td>-23.286243</td>\n",
       "      <td>-0.564501</td>\n",
       "    </tr>\n",
       "  </tbody>\n",
       "</table>\n",
       "</div>"
      ],
      "text/plain": [
       "     1st_principal  2nd_principal\n",
       "70      -18.492083       3.155558\n",
       "357      15.736004       3.769636\n",
       "52      -19.170950       0.220202\n",
       "146       2.787478      -1.506108\n",
       "107     -23.286243      -0.564501"
      ]
     },
     "execution_count": 63,
     "metadata": {},
     "output_type": "execute_result"
    }
   ],
   "source": [
    "X_test.head()"
   ]
  },
  {
   "cell_type": "code",
   "execution_count": 64,
   "id": "e72ab70b",
   "metadata": {},
   "outputs": [],
   "source": [
    "# making seperate dataframe for test data\n",
    "df_test_pca = pd.DataFrame()\n",
    "df_test_pca = X_test\n",
    "df_test_pca['Chance of Admit'] = y_test\n",
    "df_test_pca['predicted Chance of Admit'] = y_pred_reg_pca"
   ]
  },
  {
   "cell_type": "code",
   "execution_count": 65,
   "id": "e066a993",
   "metadata": {},
   "outputs": [
    {
     "data": {
      "text/html": [
       "<div>\n",
       "<style scoped>\n",
       "    .dataframe tbody tr th:only-of-type {\n",
       "        vertical-align: middle;\n",
       "    }\n",
       "\n",
       "    .dataframe tbody tr th {\n",
       "        vertical-align: top;\n",
       "    }\n",
       "\n",
       "    .dataframe thead th {\n",
       "        text-align: right;\n",
       "    }\n",
       "</style>\n",
       "<table border=\"1\" class=\"dataframe\">\n",
       "  <thead>\n",
       "    <tr style=\"text-align: right;\">\n",
       "      <th></th>\n",
       "      <th>1st_principal</th>\n",
       "      <th>2nd_principal</th>\n",
       "      <th>Chance of Admit</th>\n",
       "      <th>predicted Chance of Admit</th>\n",
       "    </tr>\n",
       "  </thead>\n",
       "  <tbody>\n",
       "    <tr>\n",
       "      <th>70</th>\n",
       "      <td>-18.492083</td>\n",
       "      <td>3.155558</td>\n",
       "      <td>0.94</td>\n",
       "      <td>0.911135</td>\n",
       "    </tr>\n",
       "    <tr>\n",
       "      <th>357</th>\n",
       "      <td>15.736004</td>\n",
       "      <td>3.769636</td>\n",
       "      <td>0.68</td>\n",
       "      <td>0.597558</td>\n",
       "    </tr>\n",
       "    <tr>\n",
       "      <th>52</th>\n",
       "      <td>-19.170950</td>\n",
       "      <td>0.220202</td>\n",
       "      <td>0.78</td>\n",
       "      <td>0.900438</td>\n",
       "    </tr>\n",
       "    <tr>\n",
       "      <th>146</th>\n",
       "      <td>2.787478</td>\n",
       "      <td>-1.506108</td>\n",
       "      <td>0.75</td>\n",
       "      <td>0.686999</td>\n",
       "    </tr>\n",
       "    <tr>\n",
       "      <th>107</th>\n",
       "      <td>-23.286243</td>\n",
       "      <td>-0.564501</td>\n",
       "      <td>0.91</td>\n",
       "      <td>0.934026</td>\n",
       "    </tr>\n",
       "  </tbody>\n",
       "</table>\n",
       "</div>"
      ],
      "text/plain": [
       "     1st_principal  2nd_principal  Chance of Admit  predicted Chance of Admit\n",
       "70      -18.492083       3.155558             0.94                   0.911135\n",
       "357      15.736004       3.769636             0.68                   0.597558\n",
       "52      -19.170950       0.220202             0.78                   0.900438\n",
       "146       2.787478      -1.506108             0.75                   0.686999\n",
       "107     -23.286243      -0.564501             0.91                   0.934026"
      ]
     },
     "execution_count": 65,
     "metadata": {},
     "output_type": "execute_result"
    }
   ],
   "source": [
    "df_test_pca.head()"
   ]
  },
  {
   "cell_type": "code",
   "execution_count": 66,
   "id": "f34bee87",
   "metadata": {},
   "outputs": [],
   "source": [
    "# saving CSV file\n",
    "df_test_pca.to_csv(\"test_pred_PCA.csv\", index= False)"
   ]
  },
  {
   "cell_type": "markdown",
   "id": "75333478",
   "metadata": {},
   "source": [
    "# 8. Comparison"
   ]
  },
  {
   "cell_type": "code",
   "execution_count": 67,
   "id": "e937e039",
   "metadata": {},
   "outputs": [
    {
     "name": "stdout",
     "output_type": "stream",
     "text": [
      "+----------------------------+------------+-----------+\n",
      "|         Model Name         | Train MSE  |  Test MSE |\n",
      "+----------------------------+------------+-----------+\n",
      "|     Linear Regression      | 0.0043994  | 0.0037589 |\n",
      "|            SVM             | 0.00548604 | 0.0065021 |\n",
      "| PCA with Linear Regression | 0.00625972 | 0.0056254 |\n",
      "|        PCA with SVM        | 0.00647224 | 0.0062792 |\n",
      "+----------------------------+------------+-----------+\n"
     ]
    }
   ],
   "source": [
    "# http://zetcode.com/python/prettytable/\n",
    "from prettytable import PrettyTable\n",
    "\n",
    "x = PrettyTable()\n",
    "x.field_names = [\"Model Name\", \"Train MSE\", \"Test MSE\"]\n",
    "\n",
    "x.add_row([\"Linear Regression\", 0.0043994, 0.0037589 ])\n",
    "x.add_row([\"SVM\", 0.00548604, 0.00650210])\n",
    "x.add_row([\"PCA with Linear Regression\", 0.00625972, 0.005625400])\n",
    "x.add_row([\"PCA with SVM\", 0.00647224, 0.0062792])\n",
    "print(x)"
   ]
  },
  {
   "cell_type": "markdown",
   "id": "7e21bca1",
   "metadata": {},
   "source": [
    "> As from above table we can ensure that Linear Regression model performs very well to predict Chance of Admit very well than other models.\n",
    ">\n",
    "> As we can see from Data Visualization part most of the features are linearly seperable with target feature i.e Chance of Admit, that is why Linear Regression performs very well.\n",
    ">\n",
    "> Using PCA we have reduced the dimension into 2 dimension and applied Linear Regression and SVM, as we can see from above table PCA with Linear Regression performs well than PCA with SVM."
   ]
  },
  {
   "cell_type": "code",
   "execution_count": null,
   "id": "f64a0492",
   "metadata": {},
   "outputs": [],
   "source": []
  },
  {
   "cell_type": "code",
   "execution_count": null,
   "id": "d8563f74",
   "metadata": {},
   "outputs": [],
   "source": []
  },
  {
   "cell_type": "code",
   "execution_count": null,
   "id": "7016c427",
   "metadata": {},
   "outputs": [],
   "source": []
  }
 ],
 "metadata": {
  "kernelspec": {
   "display_name": "Python [conda env:tensorflow] *",
   "language": "python",
   "name": "conda-env-tensorflow-py"
  },
  "language_info": {
   "codemirror_mode": {
    "name": "ipython",
    "version": 3
   },
   "file_extension": ".py",
   "mimetype": "text/x-python",
   "name": "python",
   "nbconvert_exporter": "python",
   "pygments_lexer": "ipython3",
   "version": "3.10.4"
  }
 },
 "nbformat": 4,
 "nbformat_minor": 5
}
